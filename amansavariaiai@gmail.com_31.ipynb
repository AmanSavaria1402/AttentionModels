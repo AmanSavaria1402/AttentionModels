{
 "cells": [
  {
   "cell_type": "markdown",
   "metadata": {
    "id": "fwPL0hIlGKoA"
   },
   "source": [
    "# <font color='red'>**Sequence to sequence implementation**</font>"
   ]
  },
  {
   "cell_type": "markdown",
   "metadata": {
    "id": "-nYHE_1ck2az"
   },
   "source": [
    "**There will be some functions that start with the word \"grader\" ex: grader_check_encoder(), grader_check_attention(), grader_onestepdecoder() etc, you should not change those function definition.<br><br>Every Grader function has to return True.**\n",
    "\n",
    "**Note 1:**  There are many blogs on the attention mechanisum which might be misleading you,\n",
    " so do read the references completly and after that only please check the internet.\n",
    " The best things is to read the research papers and try to implement it on your own. \n",
    "\n",
    "**Note 2:** To complete this assignment, the reference that are mentioned will be enough.\n",
    "\n",
    "**Note 3:** If you are starting this assignment, you might have completed minimum of 20 assignment.\n",
    " If  you are still not able to implement this algorithm you might have rushed in the previous assignments \n",
    "with out learning much and didn't spend your time productively."
   ]
  },
  {
   "cell_type": "markdown",
   "metadata": {
    "id": "QyfZo8fmLOec"
   },
   "source": [
    "## Task -1: Simple Encoder and Decoder\n",
    "Implement simple Encoder-Decoder model"
   ]
  },
  {
   "cell_type": "markdown",
   "metadata": {
    "id": "IvNSZXNkkOkO"
   },
   "source": [
    "1. Download the **Italian** to **English** translation dataset from <a href=\"http://www.manythings.org/anki/ita-eng.zip\">here</a>\n",
    "\n",
    "2. You will find **ita.txt** file in that ZIP, \n",
    "you can read that data using python and preprocess that data this way only: \n",
    "<img src='https://i.imgur.com/z0j79Jf.png'>    \n",
    "    \n",
    "3. You have to implement a simple Encoder and Decoder architecture  \n",
    "\n",
    "4. Use BLEU score as metric to evaluate your model. You can use any loss function you need.\n",
    "\n",
    "5. You have to use Tensorboard to plot the Graph, Scores and histograms of gradients. \n",
    "\n",
    "6.  a. Check the reference notebook <br>\n",
    "    b. <a href=\"https://medium.com/analytics-vidhya/understand-sequence-to-sequence-models-in-a-more-intuitive-way-1d517d8795bb\">Resource 2</a>\n",
    "    \n",
    "\n"
   ]
  },
  {
   "cell_type": "code",
   "execution_count": 1,
   "metadata": {},
   "outputs": [],
   "source": [
    "# loading the libraries\n",
    "import numpy as np\n",
    "import pandas as pd\n",
    "import matplotlib.pyplot as plt\n",
    "import seaborn as sns\n",
    "import tensorflow as tf\n",
    "import pickle\n",
    "import os\n",
    "import re\n",
    "from tqdm import tqdm\n",
    "from tensorflow.keras.preprocessing.text import Tokenizer\n",
    "from tensorflow.keras.layers import LSTM, Embedding, Dense, Softmax, Dot, concatenate, Reshape\n",
    "from tensorflow.keras.regularizers import l2\n",
    "from tensorflow.keras.preprocessing.sequence import pad_sequences\n",
    "from tensorflow.keras.losses import SparseCategoricalCrossentropy"
   ]
  },
  {
   "cell_type": "markdown",
   "metadata": {
    "id": "3k_AlAuKJqVA"
   },
   "source": [
    "<font color='blue'>**Load the data**</font>"
   ]
  },
  {
   "cell_type": "code",
   "execution_count": 2,
   "metadata": {
    "id": "fU80Ao-AGaob"
   },
   "outputs": [],
   "source": [
    "# reading the data and storing all the english and italian sentences in a dataframe\n",
    "eng = [] # storing the english sentences.\n",
    "ita = [] # storing the italian sentences\n",
    "\n",
    "with open('ita.txt', 'r', encoding='utf-8') as file:\n",
    "    for i, line in enumerate(file):\n",
    "        ln = line.split('\\t')\n",
    "        # storing the english and the italian parts in the lists\n",
    "        eng.append(ln[0])\n",
    "        ita.append(ln[1])"
   ]
  },
  {
   "cell_type": "code",
   "execution_count": 27,
   "metadata": {},
   "outputs": [
    {
     "name": "stdout",
     "output_type": "stream",
     "text": [
      "345244\n"
     ]
    }
   ],
   "source": [
    "# checking for the lengths of the lists to be the same\n",
    "assert len(eng) == len(ita)\n",
    "print(len(eng))"
   ]
  },
  {
   "cell_type": "code",
   "execution_count": 28,
   "metadata": {},
   "outputs": [
    {
     "name": "stdout",
     "output_type": "stream",
     "text": [
      "(345244, 2)\n"
     ]
    },
    {
     "data": {
      "text/html": [
       "<div>\n",
       "<style scoped>\n",
       "    .dataframe tbody tr th:only-of-type {\n",
       "        vertical-align: middle;\n",
       "    }\n",
       "\n",
       "    .dataframe tbody tr th {\n",
       "        vertical-align: top;\n",
       "    }\n",
       "\n",
       "    .dataframe thead th {\n",
       "        text-align: right;\n",
       "    }\n",
       "</style>\n",
       "<table border=\"1\" class=\"dataframe\">\n",
       "  <thead>\n",
       "    <tr style=\"text-align: right;\">\n",
       "      <th></th>\n",
       "      <th>english</th>\n",
       "      <th>italian</th>\n",
       "    </tr>\n",
       "  </thead>\n",
       "  <tbody>\n",
       "    <tr>\n",
       "      <th>0</th>\n",
       "      <td>Hi.</td>\n",
       "      <td>Ciao!</td>\n",
       "    </tr>\n",
       "    <tr>\n",
       "      <th>1</th>\n",
       "      <td>Run!</td>\n",
       "      <td>Corri!</td>\n",
       "    </tr>\n",
       "    <tr>\n",
       "      <th>2</th>\n",
       "      <td>Run!</td>\n",
       "      <td>Corra!</td>\n",
       "    </tr>\n",
       "    <tr>\n",
       "      <th>3</th>\n",
       "      <td>Run!</td>\n",
       "      <td>Correte!</td>\n",
       "    </tr>\n",
       "    <tr>\n",
       "      <th>4</th>\n",
       "      <td>Who?</td>\n",
       "      <td>Chi?</td>\n",
       "    </tr>\n",
       "  </tbody>\n",
       "</table>\n",
       "</div>"
      ],
      "text/plain": [
       "  english   italian\n",
       "0     Hi.     Ciao!\n",
       "1    Run!    Corri!\n",
       "2    Run!    Corra!\n",
       "3    Run!  Correte!\n",
       "4    Who?      Chi?"
      ]
     },
     "execution_count": 28,
     "metadata": {},
     "output_type": "execute_result"
    }
   ],
   "source": [
    "# making the dataframe\n",
    "sentences = pd.DataFrame({'english':eng, 'italian':ita})\n",
    "print(sentences.shape)\n",
    "sentences.head()"
   ]
  },
  {
   "cell_type": "code",
   "execution_count": 29,
   "metadata": {},
   "outputs": [],
   "source": [
    "# saving this on the disk\n",
    "sentences.to_csv('sentences.csv', index=False)"
   ]
  },
  {
   "cell_type": "code",
   "execution_count": 2,
   "metadata": {},
   "outputs": [
    {
     "name": "stdout",
     "output_type": "stream",
     "text": [
      "(345244, 2)\n"
     ]
    },
    {
     "data": {
      "text/html": [
       "<div>\n",
       "<style scoped>\n",
       "    .dataframe tbody tr th:only-of-type {\n",
       "        vertical-align: middle;\n",
       "    }\n",
       "\n",
       "    .dataframe tbody tr th {\n",
       "        vertical-align: top;\n",
       "    }\n",
       "\n",
       "    .dataframe thead th {\n",
       "        text-align: right;\n",
       "    }\n",
       "</style>\n",
       "<table border=\"1\" class=\"dataframe\">\n",
       "  <thead>\n",
       "    <tr style=\"text-align: right;\">\n",
       "      <th></th>\n",
       "      <th>english</th>\n",
       "      <th>italian</th>\n",
       "    </tr>\n",
       "  </thead>\n",
       "  <tbody>\n",
       "    <tr>\n",
       "      <th>0</th>\n",
       "      <td>Hi.</td>\n",
       "      <td>Ciao!</td>\n",
       "    </tr>\n",
       "    <tr>\n",
       "      <th>1</th>\n",
       "      <td>Run!</td>\n",
       "      <td>Corri!</td>\n",
       "    </tr>\n",
       "    <tr>\n",
       "      <th>2</th>\n",
       "      <td>Run!</td>\n",
       "      <td>Corra!</td>\n",
       "    </tr>\n",
       "    <tr>\n",
       "      <th>3</th>\n",
       "      <td>Run!</td>\n",
       "      <td>Correte!</td>\n",
       "    </tr>\n",
       "    <tr>\n",
       "      <th>4</th>\n",
       "      <td>Who?</td>\n",
       "      <td>Chi?</td>\n",
       "    </tr>\n",
       "  </tbody>\n",
       "</table>\n",
       "</div>"
      ],
      "text/plain": [
       "  english   italian\n",
       "0     Hi.     Ciao!\n",
       "1    Run!    Corri!\n",
       "2    Run!    Corra!\n",
       "3    Run!  Correte!\n",
       "4    Who?      Chi?"
      ]
     },
     "execution_count": 2,
     "metadata": {},
     "output_type": "execute_result"
    }
   ],
   "source": [
    "# loading the data\n",
    "sentences = pd.read_csv('sentences.csv')\n",
    "print(sentences.shape)\n",
    "sentences.head()"
   ]
  },
  {
   "cell_type": "markdown",
   "metadata": {
    "id": "vmGWTdRmKRph"
   },
   "source": [
    "<font color='blue'>**Preprocess data**</font>\n",
    "\n",
    "First, we are going to preprocess the english sentences. For that, we are going to:\n",
    "1. Expand abbreviations such as can't to can not, won't to will not etc.\n",
    "2. Removing punctuations.\n",
    "3. Turning each character into lowercase."
   ]
  },
  {
   "cell_type": "code",
   "execution_count": 3,
   "metadata": {},
   "outputs": [],
   "source": [
    "def decontract(text):\n",
    "    '''\n",
    "        This function expands words like, can't ---> can not,\n",
    "                                          won't ---> will not etc.\n",
    "    '''\n",
    "    # specific ones\n",
    "    txt = re.sub(\"can\\'t\", 'can not', text)\n",
    "    txt = re.sub(\"won\\'t\", 'will not', txt)\n",
    "    \n",
    "    # general ones\n",
    "    txt = re.sub(\"n\\'t\", ' not', txt)\n",
    "    txt = re.sub(\"\\'re\", ' are', txt)\n",
    "    txt = re.sub(\"\\'s\", ' is', txt)\n",
    "    txt = re.sub(r\"\\'d\", \" would\", txt)\n",
    "    txt = re.sub(r\"\\'ll\", \" will\", txt)\n",
    "    txt = re.sub(r\"\\'t\", \" not\", txt)\n",
    "    txt = re.sub(r\"\\'ve\", \" have\", txt)\n",
    "    txt = re.sub(r\"\\'m\", \" am\", txt)\n",
    "    \n",
    "    return txt\n",
    "\n",
    "def preprocess(text):\n",
    "    '''\n",
    "        This function first decontracts the text and them removes any punctuation marks from the sentence.\n",
    "        It removes everything that is not an alphabet, a number or a space from the sentences. It then converts everything into lowercase.\n",
    "    '''\n",
    "    # first decontracting the text\n",
    "    txt = decontract(text)\n",
    "    # removing everything except [A-Za-z0-9 ]\n",
    "    txt = re.sub('[^A-Za-z0-9 ]+', '', txt)\n",
    "    # turning everything into lowercase\n",
    "    txt = txt.lower()\n",
    "    return txt\n",
    "\n",
    "def preprocess_ita(text):\n",
    "    # convert all the text into lower letters\n",
    "    # remove the words betweent brakets ()\n",
    "    # remove these characters: {'$', ')', '?', '\"', '’', '.',  '°', '!', ';', '/', \"'\", '€', '%', ':', ',', '('}\n",
    "    # replace these spl characters with space: '\\u200b', '\\xa0', '-', '/'\n",
    "    \n",
    "    text = text.lower()\n",
    "    text = decontract(text)\n",
    "    text = re.sub('[$)\\?\"’.°!;\\'€%:,(/]', '', text)\n",
    "    text = re.sub('\\u200b', ' ', text)\n",
    "    text = re.sub('\\xa0', ' ', text)\n",
    "    text = re.sub('-', ' ', text)\n",
    "    return text\n"
   ]
  },
  {
   "cell_type": "code",
   "execution_count": 4,
   "metadata": {},
   "outputs": [
    {
     "name": "stdout",
     "output_type": "stream",
     "text": [
      "(345244, 2)\n"
     ]
    },
    {
     "data": {
      "text/html": [
       "<div>\n",
       "<style scoped>\n",
       "    .dataframe tbody tr th:only-of-type {\n",
       "        vertical-align: middle;\n",
       "    }\n",
       "\n",
       "    .dataframe tbody tr th {\n",
       "        vertical-align: top;\n",
       "    }\n",
       "\n",
       "    .dataframe thead th {\n",
       "        text-align: right;\n",
       "    }\n",
       "</style>\n",
       "<table border=\"1\" class=\"dataframe\">\n",
       "  <thead>\n",
       "    <tr style=\"text-align: right;\">\n",
       "      <th></th>\n",
       "      <th>italian</th>\n",
       "      <th>english</th>\n",
       "    </tr>\n",
       "  </thead>\n",
       "  <tbody>\n",
       "    <tr>\n",
       "      <th>0</th>\n",
       "      <td>ciao</td>\n",
       "      <td>hi</td>\n",
       "    </tr>\n",
       "    <tr>\n",
       "      <th>1</th>\n",
       "      <td>corri</td>\n",
       "      <td>run</td>\n",
       "    </tr>\n",
       "    <tr>\n",
       "      <th>2</th>\n",
       "      <td>corra</td>\n",
       "      <td>run</td>\n",
       "    </tr>\n",
       "    <tr>\n",
       "      <th>3</th>\n",
       "      <td>correte</td>\n",
       "      <td>run</td>\n",
       "    </tr>\n",
       "    <tr>\n",
       "      <th>4</th>\n",
       "      <td>chi</td>\n",
       "      <td>who</td>\n",
       "    </tr>\n",
       "  </tbody>\n",
       "</table>\n",
       "</div>"
      ],
      "text/plain": [
       "   italian english\n",
       "0     ciao      hi\n",
       "1    corri     run\n",
       "2    corra     run\n",
       "3  correte     run\n",
       "4      chi     who"
      ]
     },
     "execution_count": 4,
     "metadata": {},
     "output_type": "execute_result"
    }
   ],
   "source": [
    "processed_sent = pd.DataFrame({})\n",
    "# preprocessing both the italian and english sentences\n",
    "processed_sent['italian'] = sentences['italian'].apply(preprocess_ita)\n",
    "processed_sent['english'] = sentences['english'].apply(preprocess)\n",
    "print(processed_sent.shape)\n",
    "processed_sent.head()"
   ]
  },
  {
   "cell_type": "code",
   "execution_count": 25,
   "metadata": {},
   "outputs": [],
   "source": [
    "# saving the processed sentences to the disk\n",
    "processed_sent.to_csv('processed_sentences.csv', index=False)"
   ]
  },
  {
   "cell_type": "code",
   "execution_count": 2,
   "metadata": {
    "scrolled": false
   },
   "outputs": [
    {
     "name": "stdout",
     "output_type": "stream",
     "text": [
      "(345244, 2)\n"
     ]
    },
    {
     "data": {
      "text/html": [
       "<div>\n",
       "<style scoped>\n",
       "    .dataframe tbody tr th:only-of-type {\n",
       "        vertical-align: middle;\n",
       "    }\n",
       "\n",
       "    .dataframe tbody tr th {\n",
       "        vertical-align: top;\n",
       "    }\n",
       "\n",
       "    .dataframe thead th {\n",
       "        text-align: right;\n",
       "    }\n",
       "</style>\n",
       "<table border=\"1\" class=\"dataframe\">\n",
       "  <thead>\n",
       "    <tr style=\"text-align: right;\">\n",
       "      <th></th>\n",
       "      <th>italian</th>\n",
       "      <th>english</th>\n",
       "    </tr>\n",
       "  </thead>\n",
       "  <tbody>\n",
       "    <tr>\n",
       "      <th>0</th>\n",
       "      <td>ciao</td>\n",
       "      <td>hi</td>\n",
       "    </tr>\n",
       "    <tr>\n",
       "      <th>1</th>\n",
       "      <td>corri</td>\n",
       "      <td>run</td>\n",
       "    </tr>\n",
       "    <tr>\n",
       "      <th>2</th>\n",
       "      <td>corra</td>\n",
       "      <td>run</td>\n",
       "    </tr>\n",
       "    <tr>\n",
       "      <th>3</th>\n",
       "      <td>correte</td>\n",
       "      <td>run</td>\n",
       "    </tr>\n",
       "    <tr>\n",
       "      <th>4</th>\n",
       "      <td>chi</td>\n",
       "      <td>who</td>\n",
       "    </tr>\n",
       "  </tbody>\n",
       "</table>\n",
       "</div>"
      ],
      "text/plain": [
       "   italian english\n",
       "0     ciao      hi\n",
       "1    corri     run\n",
       "2    corra     run\n",
       "3  correte     run\n",
       "4      chi     who"
      ]
     },
     "execution_count": 2,
     "metadata": {},
     "output_type": "execute_result"
    }
   ],
   "source": [
    "# loading the processed sentences dataframe\n",
    "processed_sent = pd.read_csv('processed_sentences.csv')\n",
    "print(processed_sent.shape)\n",
    "processed_sent.head()"
   ]
  },
  {
   "cell_type": "markdown",
   "metadata": {},
   "source": [
    "Now that we have preprocessed the sentences, we will prepare the encoder input, the decoder input and the decoder outputs that we will give to the models for training. However, before that, we will be setting a maximum word length for both the languages and then keep only those sentences that have word counts less than the maximum word count.\n",
    "___\n",
    "From the reference notebook, we have seen that the maximum_length==20 is a good choice. Thus we are choosing max length = 20 for both the languages."
   ]
  },
  {
   "cell_type": "code",
   "execution_count": 3,
   "metadata": {},
   "outputs": [
    {
     "name": "stdout",
     "output_type": "stream",
     "text": [
      "(344816, 2)\n",
      "(344816, 4)\n"
     ]
    },
    {
     "data": {
      "text/html": [
       "<div>\n",
       "<style scoped>\n",
       "    .dataframe tbody tr th:only-of-type {\n",
       "        vertical-align: middle;\n",
       "    }\n",
       "\n",
       "    .dataframe tbody tr th {\n",
       "        vertical-align: top;\n",
       "    }\n",
       "\n",
       "    .dataframe thead th {\n",
       "        text-align: right;\n",
       "    }\n",
       "</style>\n",
       "<table border=\"1\" class=\"dataframe\">\n",
       "  <thead>\n",
       "    <tr style=\"text-align: right;\">\n",
       "      <th></th>\n",
       "      <th>italian</th>\n",
       "      <th>english</th>\n",
       "      <th>english_input</th>\n",
       "      <th>english_output</th>\n",
       "    </tr>\n",
       "  </thead>\n",
       "  <tbody>\n",
       "    <tr>\n",
       "      <th>0</th>\n",
       "      <td>ciao</td>\n",
       "      <td>hi</td>\n",
       "      <td>&lt;start&gt; hi</td>\n",
       "      <td>hi &lt;end&gt;</td>\n",
       "    </tr>\n",
       "    <tr>\n",
       "      <th>1</th>\n",
       "      <td>corri</td>\n",
       "      <td>run</td>\n",
       "      <td>&lt;start&gt; run</td>\n",
       "      <td>run &lt;end&gt;</td>\n",
       "    </tr>\n",
       "    <tr>\n",
       "      <th>2</th>\n",
       "      <td>corra</td>\n",
       "      <td>run</td>\n",
       "      <td>&lt;start&gt; run</td>\n",
       "      <td>run &lt;end&gt;</td>\n",
       "    </tr>\n",
       "    <tr>\n",
       "      <th>3</th>\n",
       "      <td>correte</td>\n",
       "      <td>run</td>\n",
       "      <td>&lt;start&gt; run</td>\n",
       "      <td>run &lt;end&gt;</td>\n",
       "    </tr>\n",
       "    <tr>\n",
       "      <th>4</th>\n",
       "      <td>chi</td>\n",
       "      <td>who</td>\n",
       "      <td>&lt;start&gt; who</td>\n",
       "      <td>who &lt;end&gt;</td>\n",
       "    </tr>\n",
       "  </tbody>\n",
       "</table>\n",
       "</div>"
      ],
      "text/plain": [
       "   italian english english_input english_output\n",
       "0     ciao      hi    <start> hi       hi <end>\n",
       "1    corri     run   <start> run      run <end>\n",
       "2    corra     run   <start> run      run <end>\n",
       "3  correte     run   <start> run      run <end>\n",
       "4      chi     who   <start> who      who <end>"
      ]
     },
     "execution_count": 3,
     "metadata": {},
     "output_type": "execute_result"
    }
   ],
   "source": [
    "# filtering sentences with words > 20\n",
    "processed_sent = processed_sent[processed_sent['english'].str.split().apply(len)<20]\n",
    "processed_sent = processed_sent[processed_sent['italian'].str.split().apply(len)<20]\n",
    "\n",
    "print(processed_sent.shape)\n",
    "\n",
    "# making two new sentences for the english sentences, adding the tokens <start> to the first and <end> to the second token.\n",
    "# the first one will be given to the decoder as the input while the second one will be given to the decoder as the output.\n",
    "# this is to do teacher forcing to the decoder model.\n",
    "eng_inp = ['<start> '+sent for sent in processed_sent['english']]\n",
    "eng_out = [sent+' <end>' for sent in processed_sent['english']]\n",
    "\n",
    "# adding the sentences to the dataframe\n",
    "processed_sent['english_input'] = eng_inp\n",
    "processed_sent['english_output'] = eng_out\n",
    "\n",
    "print(processed_sent.shape)\n",
    "processed_sent.head()"
   ]
  },
  {
   "cell_type": "code",
   "execution_count": 4,
   "metadata": {},
   "outputs": [],
   "source": [
    "# dropping the english column from the dataframe\n",
    "processed_sent = processed_sent.drop(columns='english')"
   ]
  },
  {
   "cell_type": "markdown",
   "metadata": {},
   "source": [
    "#### Train-test split\n",
    "Now, we are going to split the data into training and testing sets. We are going to make an 80-20 split."
   ]
  },
  {
   "cell_type": "code",
   "execution_count": 5,
   "metadata": {},
   "outputs": [
    {
     "name": "stdout",
     "output_type": "stream",
     "text": [
      "(275852, 3) (68964, 3)\n"
     ]
    },
    {
     "data": {
      "text/html": [
       "<div>\n",
       "<style scoped>\n",
       "    .dataframe tbody tr th:only-of-type {\n",
       "        vertical-align: middle;\n",
       "    }\n",
       "\n",
       "    .dataframe tbody tr th {\n",
       "        vertical-align: top;\n",
       "    }\n",
       "\n",
       "    .dataframe thead th {\n",
       "        text-align: right;\n",
       "    }\n",
       "</style>\n",
       "<table border=\"1\" class=\"dataframe\">\n",
       "  <thead>\n",
       "    <tr style=\"text-align: right;\">\n",
       "      <th></th>\n",
       "      <th>italian</th>\n",
       "      <th>english_input</th>\n",
       "      <th>english_output</th>\n",
       "    </tr>\n",
       "  </thead>\n",
       "  <tbody>\n",
       "    <tr>\n",
       "      <th>210312</th>\n",
       "      <td>io devo dire che mi dispiace</td>\n",
       "      <td>&lt;start&gt; i have to say that i am sorry</td>\n",
       "      <td>i have to say that i am sorry &lt;end&gt;</td>\n",
       "    </tr>\n",
       "    <tr>\n",
       "      <th>129694</th>\n",
       "      <td>hai degli amici</td>\n",
       "      <td>&lt;start&gt; do you have any friends</td>\n",
       "      <td>do you have any friends &lt;end&gt;</td>\n",
       "    </tr>\n",
       "    <tr>\n",
       "      <th>141147</th>\n",
       "      <td>dobbiamo vincere questa</td>\n",
       "      <td>&lt;start&gt; we need to win this one</td>\n",
       "      <td>we need to win this one &lt;end&gt;</td>\n",
       "    </tr>\n",
       "    <tr>\n",
       "      <th>158282</th>\n",
       "      <td>perché sa tutto questo</td>\n",
       "      <td>&lt;start&gt; why do you know all this</td>\n",
       "      <td>why do you know all this &lt;end&gt;</td>\n",
       "    </tr>\n",
       "    <tr>\n",
       "      <th>89813</th>\n",
       "      <td>non sono vegetariana</td>\n",
       "      <td>&lt;start&gt; i am not a vegetarian</td>\n",
       "      <td>i am not a vegetarian &lt;end&gt;</td>\n",
       "    </tr>\n",
       "  </tbody>\n",
       "</table>\n",
       "</div>"
      ],
      "text/plain": [
       "                             italian                          english_input  \\\n",
       "210312  io devo dire che mi dispiace  <start> i have to say that i am sorry   \n",
       "129694               hai degli amici        <start> do you have any friends   \n",
       "141147       dobbiamo vincere questa        <start> we need to win this one   \n",
       "158282        perché sa tutto questo       <start> why do you know all this   \n",
       "89813           non sono vegetariana          <start> i am not a vegetarian   \n",
       "\n",
       "                             english_output  \n",
       "210312  i have to say that i am sorry <end>  \n",
       "129694        do you have any friends <end>  \n",
       "141147        we need to win this one <end>  \n",
       "158282       why do you know all this <end>  \n",
       "89813           i am not a vegetarian <end>  "
      ]
     },
     "execution_count": 5,
     "metadata": {},
     "output_type": "execute_result"
    }
   ],
   "source": [
    "from sklearn.model_selection import train_test_split\n",
    "\n",
    "train, validation = train_test_split(processed_sent, test_size=0.2, random_state=0)\n",
    "print(train.shape, validation.shape)\n",
    "train.head()"
   ]
  },
  {
   "cell_type": "code",
   "execution_count": 6,
   "metadata": {},
   "outputs": [
    {
     "data": {
      "text/html": [
       "<div>\n",
       "<style scoped>\n",
       "    .dataframe tbody tr th:only-of-type {\n",
       "        vertical-align: middle;\n",
       "    }\n",
       "\n",
       "    .dataframe tbody tr th {\n",
       "        vertical-align: top;\n",
       "    }\n",
       "\n",
       "    .dataframe thead th {\n",
       "        text-align: right;\n",
       "    }\n",
       "</style>\n",
       "<table border=\"1\" class=\"dataframe\">\n",
       "  <thead>\n",
       "    <tr style=\"text-align: right;\">\n",
       "      <th></th>\n",
       "      <th>italian</th>\n",
       "      <th>english_input</th>\n",
       "      <th>english_output</th>\n",
       "    </tr>\n",
       "  </thead>\n",
       "  <tbody>\n",
       "    <tr>\n",
       "      <th>183327</th>\n",
       "      <td>lei si prese cura della bambina</td>\n",
       "      <td>&lt;start&gt; she took care of the child</td>\n",
       "      <td>she took care of the child &lt;end&gt;</td>\n",
       "    </tr>\n",
       "    <tr>\n",
       "      <th>315271</th>\n",
       "      <td>quasi tutti quelli che conosco sanno nuotare</td>\n",
       "      <td>&lt;start&gt; almost everyone i know knows how to swim</td>\n",
       "      <td>almost everyone i know knows how to swim &lt;end&gt;</td>\n",
       "    </tr>\n",
       "    <tr>\n",
       "      <th>258484</th>\n",
       "      <td>deve farlo immediatamente</td>\n",
       "      <td>&lt;start&gt; you ought to do that right away</td>\n",
       "      <td>you ought to do that right away &lt;end&gt;</td>\n",
       "    </tr>\n",
       "    <tr>\n",
       "      <th>332448</th>\n",
       "      <td>mia madre non fa più il bucato per me</td>\n",
       "      <td>&lt;start&gt; my mother does not do my laundry for m...</td>\n",
       "      <td>my mother does not do my laundry for me anymor...</td>\n",
       "    </tr>\n",
       "    <tr>\n",
       "      <th>133231</th>\n",
       "      <td>ho bisogno di un saldatore</td>\n",
       "      <td>&lt;start&gt; i need a soldering iron</td>\n",
       "      <td>i need a soldering iron &lt;end&gt;</td>\n",
       "    </tr>\n",
       "  </tbody>\n",
       "</table>\n",
       "</div>"
      ],
      "text/plain": [
       "                                             italian  \\\n",
       "183327               lei si prese cura della bambina   \n",
       "315271  quasi tutti quelli che conosco sanno nuotare   \n",
       "258484                     deve farlo immediatamente   \n",
       "332448         mia madre non fa più il bucato per me   \n",
       "133231                    ho bisogno di un saldatore   \n",
       "\n",
       "                                            english_input  \\\n",
       "183327                 <start> she took care of the child   \n",
       "315271   <start> almost everyone i know knows how to swim   \n",
       "258484            <start> you ought to do that right away   \n",
       "332448  <start> my mother does not do my laundry for m...   \n",
       "133231                    <start> i need a soldering iron   \n",
       "\n",
       "                                           english_output  \n",
       "183327                   she took care of the child <end>  \n",
       "315271     almost everyone i know knows how to swim <end>  \n",
       "258484              you ought to do that right away <end>  \n",
       "332448  my mother does not do my laundry for me anymor...  \n",
       "133231                      i need a soldering iron <end>  "
      ]
     },
     "execution_count": 6,
     "metadata": {},
     "output_type": "execute_result"
    }
   ],
   "source": [
    "validation.head()"
   ]
  },
  {
   "cell_type": "markdown",
   "metadata": {
    "id": "9QqElB_nKZos"
   },
   "source": [
    "#### Tokenizing the english and italian sentences."
   ]
  },
  {
   "cell_type": "code",
   "execution_count": 8,
   "metadata": {},
   "outputs": [],
   "source": [
    "# for italian\n",
    "tokenizer_ita = Tokenizer()\n",
    "# fitting on italian training data\n",
    "tokenizer_ita.fit_on_texts(train['italian'])\n",
    "\n",
    "# for english\n",
    "tokenizer_eng = Tokenizer(filters='!\"#$%&()*+,-./:;=?@[\\\\]^_`{|}~\\t\\n') # we need to remove < and > because of the start and end tokens.\n",
    "\n",
    "# we will add the <end> token once more to the first row of the english sentences so that we can use a single tokenizer for\n",
    "# both the decoder inputs and outputs.\n",
    "train.iloc[0]['english_input'] = str(train.iloc[0]['english_input']) + ' <end>'\n",
    "train.iloc[0]['english_output'] = str(train.iloc[0]['english_output']) + ' <end>'\n",
    "\n",
    "# now, we can fit the english tokenizer on just the inputs and use it for both inputs and outputs\n",
    "tokenizer_eng.fit_on_texts(train['english_input'])"
   ]
  },
  {
   "cell_type": "code",
   "execution_count": 9,
   "metadata": {
    "scrolled": true
   },
   "outputs": [
    {
     "data": {
      "text/html": [
       "<div>\n",
       "<style scoped>\n",
       "    .dataframe tbody tr th:only-of-type {\n",
       "        vertical-align: middle;\n",
       "    }\n",
       "\n",
       "    .dataframe tbody tr th {\n",
       "        vertical-align: top;\n",
       "    }\n",
       "\n",
       "    .dataframe thead th {\n",
       "        text-align: right;\n",
       "    }\n",
       "</style>\n",
       "<table border=\"1\" class=\"dataframe\">\n",
       "  <thead>\n",
       "    <tr style=\"text-align: right;\">\n",
       "      <th></th>\n",
       "      <th>italian</th>\n",
       "      <th>english_input</th>\n",
       "      <th>english_output</th>\n",
       "    </tr>\n",
       "  </thead>\n",
       "  <tbody>\n",
       "    <tr>\n",
       "      <th>210312</th>\n",
       "      <td>io devo dire che mi dispiace</td>\n",
       "      <td>&lt;start&gt; i have to say that i am sorry &lt;end&gt;</td>\n",
       "      <td>i have to say that i am sorry &lt;end&gt; &lt;end&gt;</td>\n",
       "    </tr>\n",
       "  </tbody>\n",
       "</table>\n",
       "</div>"
      ],
      "text/plain": [
       "                             italian  \\\n",
       "210312  io devo dire che mi dispiace   \n",
       "\n",
       "                                      english_input  \\\n",
       "210312  <start> i have to say that i am sorry <end>   \n",
       "\n",
       "                                   english_output  \n",
       "210312  i have to say that i am sorry <end> <end>  "
      ]
     },
     "execution_count": 9,
     "metadata": {},
     "output_type": "execute_result"
    }
   ],
   "source": [
    "train.head(1)"
   ]
  },
  {
   "cell_type": "code",
   "execution_count": 10,
   "metadata": {},
   "outputs": [
    {
     "name": "stdout",
     "output_type": "stream",
     "text": [
      "1 10147\n"
     ]
    }
   ],
   "source": [
    "print(tokenizer_eng.word_index['<start>'], tokenizer_eng.word_index['<end>'])"
   ]
  },
  {
   "cell_type": "code",
   "execution_count": 11,
   "metadata": {},
   "outputs": [
    {
     "name": "stdout",
     "output_type": "stream",
     "text": [
      "Vocabulary size for Italian: 26253\n",
      "Vocabulary size for English: 12859\n"
     ]
    }
   ],
   "source": [
    "# lets see the number of words in the english and italian vocabulary\n",
    "ita_vocab_size = len(tokenizer_ita.word_index)\n",
    "print('Vocabulary size for Italian:', ita_vocab_size)\n",
    "eng_vocab_size = len(tokenizer_eng.word_index)\n",
    "print('Vocabulary size for English:', eng_vocab_size)"
   ]
  },
  {
   "cell_type": "code",
   "execution_count": 12,
   "metadata": {},
   "outputs": [
    {
     "name": "stdout",
     "output_type": "stream",
     "text": [
      "400000\n"
     ]
    }
   ],
   "source": [
    "# loading the glove vectors for english words from the disk\n",
    "glove_vectors = {}\n",
    "with open('glove.6B.100d.txt', encoding='utf-8') as glove:\n",
    "    for line in glove:\n",
    "        values = line.split()\n",
    "        word = values[0]\n",
    "        vector = np.asarray(values[1:], dtype='float32')\n",
    "        glove_vectors[word] = vector\n",
    "        \n",
    "print(len(glove_vectors))"
   ]
  },
  {
   "cell_type": "code",
   "execution_count": 13,
   "metadata": {},
   "outputs": [
    {
     "name": "stdout",
     "output_type": "stream",
     "text": [
      "(12860, 100)\n"
     ]
    }
   ],
   "source": [
    "# making a matrix of embeddings based on the vocabulary of the tokenizer\n",
    "embeddings = np.zeros((len(tokenizer_eng.word_index)+1, 100))\n",
    "\n",
    "# adding the vectors from the dictionary to the correct index\n",
    "for word, ind in tokenizer_eng.word_index.items():\n",
    "    vector = glove_vectors.get(word)\n",
    "    if vector is not None:\n",
    "        embeddings[ind] = vector\n",
    "\n",
    "print(embeddings.shape)"
   ]
  },
  {
   "cell_type": "markdown",
   "metadata": {
    "id": "S8RDrP4xKabR"
   },
   "source": [
    "## <font color='blue'>**Implement custom encoder decoder**</font>"
   ]
  },
  {
   "cell_type": "markdown",
   "metadata": {
    "id": "A45uc0JILMlV"
   },
   "source": [
    "<font color='blue'>**Encoder**</font>"
   ]
  },
  {
   "cell_type": "code",
   "execution_count": 7,
   "metadata": {
    "id": "9cex2XfCLOew"
   },
   "outputs": [],
   "source": [
    "class Encoder(tf.keras.Model):\n",
    "    '''\n",
    "    Encoder model -- That takes a input sequence and returns encoder-outputs,encoder_final_state_h,encoder_final_state_c\n",
    "    '''\n",
    "\n",
    "    def __init__(self,inp_vocab_size,embedding_size,lstm_size,input_length):\n",
    "        super().__init__()\n",
    "        # initializing the required variables\n",
    "        self.inp_vocab_size = inp_vocab_size\n",
    "        self.embedding_size = embedding_size\n",
    "        self.lstm_size = lstm_size\n",
    "        self.input_length = input_length\n",
    "        \n",
    "    def build(self, input_shape):\n",
    "        #Initialize Embedding layer\n",
    "        self.embedding = Embedding(input_dim=self.inp_vocab_size,\n",
    "                                  output_dim=self.embedding_size,\n",
    "                                  input_length=self.input_length,\n",
    "                                  mask_zero=True, name='Encoder_Embedding')\n",
    "        #Intialize Encoder LSTM layer\n",
    "        self.lstm = LSTM(units=self.lstm_size, return_sequences=True, return_state=True, name='Encoder_LSTM')\n",
    "\n",
    "    def call(self,input_sequence, initial_state=None):\n",
    "        '''\n",
    "          This function takes a sequence input and the initial states of the encoder.\n",
    "          Pass the input_sequence input to the Embedding layer, Pass the embedding layer ouput to encoder_lstm\n",
    "          returns -- encoder_output, last time step's hidden and cell state\n",
    "        '''\n",
    "        embedding_output = self.embedding(input_sequence)\n",
    "        self.lstm_output, self.lstm_state_h, self.lstm_state_c = self.lstm(embedding_output)\n",
    "        return self.lstm_output, self.lstm_state_h, self.lstm_state_c\n",
    "    \n",
    "    def initialize_states(self,batch_size):\n",
    "        '''\n",
    "        Given a batch size it will return intial hidden state and intial cell state.\n",
    "        If batch size is 32- Hidden state is zeros of size [32,lstm_units], cell state zeros is of size [32,lstm_units]\n",
    "        '''\n",
    "        self.lstm_state_h = np.zeros((batch_size, self.lstm_size))\n",
    "        self.lstm_state_c = np.zeros((batch_size, self.lstm_size))\n",
    "        return self.lstm_state_h, self.lstm_state_c"
   ]
  },
  {
   "cell_type": "markdown",
   "metadata": {
    "id": "EtbOI3VwLOe0"
   },
   "source": [
    "<font color='orange'>**Grader function - 1**</font>"
   ]
  },
  {
   "cell_type": "code",
   "execution_count": 14,
   "metadata": {
    "id": "ziSqOgmhLOe1"
   },
   "outputs": [
    {
     "name": "stdout",
     "output_type": "stream",
     "text": [
      "True\n"
     ]
    }
   ],
   "source": [
    "def grader_check_encoder():\n",
    "    '''\n",
    "        vocab-size: Unique words of the input language,\n",
    "        embedding_size: output embedding dimension for each word after embedding layer,\n",
    "        lstm_size: Number of lstm units,\n",
    "        input_length: Length of the input sentence,\n",
    "        batch_size\n",
    "    '''\n",
    "    vocab_size=10\n",
    "    embedding_size=20\n",
    "    lstm_size=32\n",
    "    input_length=10\n",
    "    batch_size=16\n",
    "    #Intialzing encoder \n",
    "    encoder=Encoder(vocab_size,embedding_size,lstm_size,input_length)\n",
    "    input_sequence=tf.random.uniform(shape=[batch_size,input_length],maxval=vocab_size,minval=0,dtype=tf.int32)\n",
    "    #Intializing encoder initial states\n",
    "    initial_state=encoder.initialize_states(batch_size)\n",
    "    \n",
    "    encoder_output,state_h,state_c=encoder(input_sequence,initial_state)\n",
    "    \n",
    "    assert(encoder_output.shape==(batch_size,input_length,lstm_size) and state_h.shape==(batch_size,lstm_size) and state_c.shape==(batch_size,lstm_size))\n",
    "    return True\n",
    "print(grader_check_encoder())"
   ]
  },
  {
   "cell_type": "code",
   "execution_count": 8,
   "metadata": {
    "id": "x1ES1-sJLOe4"
   },
   "outputs": [],
   "source": [
    "class Decoder(tf.keras.Model):\n",
    "    '''\n",
    "    Encoder model -- That takes a input sequence and returns output sequence\n",
    "    '''\n",
    "\n",
    "    def __init__(self,out_vocab_size,embedding_size,lstm_size,input_length):\n",
    "        super().__init__()\n",
    "        # initializing the required variables first\n",
    "        self.out_vocab_size = out_vocab_size\n",
    "        self.embedding_size = embedding_size\n",
    "        self.lstm_size = lstm_size\n",
    "        self.input_length = input_length\n",
    "        #Initialize Embedding layer\n",
    "        self.embedding = Embedding(input_dim=self.out_vocab_size, output_dim=self.embedding_size, input_length=self.input_length,\n",
    "                                  mask_zero=True, name='Decoder_Embedding', trainable=False, weights=[embeddings])\n",
    "        #Intialize Decoder LSTM layer\n",
    "        self.lstm = LSTM(units=self.lstm_size, return_sequences=True, return_state=True, name='Decoder_LSTM')\n",
    "        \n",
    "\n",
    "    def call(self,input_sequence,initial_state):\n",
    "        '''\n",
    "          This function takes a sequence input and the initial states of the encoder.\n",
    "          Pass the input_sequence input to the Embedding layer, Pass the embedding layer ouput to decoder_lstm\n",
    "        \n",
    "          returns -- decoder_output,decoder_final_state_h,decoder_final_state_c\n",
    "        '''\n",
    "        embedding = self.embedding(input_sequence)\n",
    "        lstm_output, lstm_state_h, lstm_state_c = self.lstm(embedding, initial_state=initial_state)\n",
    "        return lstm_output, lstm_state_h, lstm_state_c\n",
    "      \n"
   ]
  },
  {
   "cell_type": "markdown",
   "metadata": {
    "id": "Hq-I0SUbLOe8"
   },
   "source": [
    "<font color='orange'>**Grader function - 2**</font>"
   ]
  },
  {
   "cell_type": "code",
   "execution_count": 115,
   "metadata": {
    "id": "0B0gokgKLOe8"
   },
   "outputs": [
    {
     "name": "stdout",
     "output_type": "stream",
     "text": [
      "True\n"
     ]
    }
   ],
   "source": [
    "# NOTE: For the decoder, making the embedding layer trainable and not passing the embeddings for english results in the\n",
    "# grader_decoder() returning True\n",
    "# However, since we are using the pretrained word embeddings here, the embedding vocab_size and output dimensions are \n",
    "# predefined to be eng_vocab_size+1 and 100 respectively and thus the grader_function returns false.\n",
    "def grader_decoder():\n",
    "    '''\n",
    "        out_vocab_size: Unique words of the target language,\n",
    "        embedding_size: output embedding dimension for each word after embedding layer,\n",
    "        dec_units: Number of lstm units in decoder,\n",
    "        input_length: Length of the input sentence,\n",
    "        batch_size\n",
    "        \n",
    "    \n",
    "    '''\n",
    "    out_vocab_size=13\n",
    "    embedding_dim=12 \n",
    "    input_length=10\n",
    "    dec_units=16 \n",
    "    batch_size=32\n",
    "    \n",
    "    target_sentences=tf.random.uniform(shape=(batch_size,input_length),maxval=10,minval=0,dtype=tf.int32)\n",
    "    encoder_output=tf.random.uniform(shape=[batch_size,input_length,dec_units])\n",
    "    state_h=tf.random.uniform(shape=[batch_size,dec_units])\n",
    "    state_c=tf.random.uniform(shape=[batch_size,dec_units])\n",
    "    states=[state_h,state_c]\n",
    "    decoder=Decoder(out_vocab_size, embedding_dim, dec_units,input_length )\n",
    "    output,_,_=decoder(target_sentences, states)\n",
    "    assert(output.shape==(batch_size,input_length,dec_units))\n",
    "    return True\n",
    "print(grader_decoder())\n"
   ]
  },
  {
   "cell_type": "code",
   "execution_count": 9,
   "metadata": {
    "id": "BXrIj4scLOe_"
   },
   "outputs": [],
   "source": [
    "class Encoder_decoder(tf.keras.Model):\n",
    "    \n",
    "    def __init__(self, enc_input_length, dec_inp_length, out_vocab_size):\n",
    "        '''\n",
    "            enc_inp_length = length of each italian sentence\n",
    "            dec_inp_length = length of each english sentence\n",
    "            out_vocab_size = vocabulary size of english words for the output english sentences.\n",
    "        '''\n",
    "        super().__init__()\n",
    "        #Create encoder object\n",
    "        self.encoder = Encoder(ita_vocab_size+1, embedding_size=50, lstm_size=256, input_length=enc_input_length)\n",
    "        #Create decoder object\n",
    "        self.decoder = Decoder(eng_vocab_size+1, embedding_size=100, lstm_size=256, input_length=dec_inp_length)\n",
    "        #Intialize Dense layer(out_vocab_size) with activation='softmax'\n",
    "        self.softmax = Dense(out_vocab_size, activation='softmax')\n",
    "    \n",
    "    \n",
    "    def call(self,data):\n",
    "        '''\n",
    "        A. Pass the input sequence to Encoder layer -- Return encoder_output,encoder_final_state_h,encoder_final_state_c\n",
    "        B. Pass the target sequence to Decoder layer with intial states as encoder_final_state_h,encoder_final_state_C\n",
    "        C. Pass the decoder_outputs into Dense layer \n",
    "        \n",
    "        Return decoder_outputs\n",
    "        '''\n",
    "        enc_inp, dec_inp = data[0], data[1]\n",
    "        # getting the outputs, h and c from the encoder\n",
    "        encoder_out, encoder_state_h, encoder_state_c = self.encoder(enc_inp)\n",
    "        # passing the decoder input sentence, encoder h and c to the decoder\n",
    "        decoder_out, dec_state_h, dec_state_c = self.decoder(dec_inp, initial_state = [encoder_state_h, encoder_state_c])\n",
    "        # getting the softmax probabilities\n",
    "        softmax_out = self.softmax(decoder_out)\n",
    "        print(softmax_out.shape)\n",
    "        \n",
    "        return softmax_out"
   ]
  },
  {
   "cell_type": "markdown",
   "metadata": {},
   "source": [
    "#### Preparing the data and training the model."
   ]
  },
  {
   "cell_type": "code",
   "execution_count": 60,
   "metadata": {},
   "outputs": [],
   "source": [
    "class Dataset:\n",
    "    def __init__(self, data, tknizer_ita, tknizer_eng, max_len):\n",
    "        self.encoder_inps = data['italian'].values\n",
    "        self.decoder_inps = data['english_input'].values\n",
    "        self.decoder_outs = data['english_output'].values\n",
    "        self.tknizer_eng = tknizer_eng\n",
    "        self.tknizer_ita = tknizer_ita\n",
    "        self.max_len = max_len\n",
    "\n",
    "    def __getitem__(self, i):\n",
    "        self.encoder_seq = self.tknizer_ita.texts_to_sequences([self.encoder_inps[i]]) # need to pass list of values\n",
    "        self.decoder_inp_seq = self.tknizer_eng.texts_to_sequences([self.decoder_inps[i]])\n",
    "        self.decoder_out_seq = self.tknizer_eng.texts_to_sequences([self.decoder_outs[i]])\n",
    "\n",
    "        self.encoder_seq = pad_sequences(self.encoder_seq, maxlen=self.max_len, dtype='int32', padding='post')\n",
    "        self.decoder_inp_seq = pad_sequences(self.decoder_inp_seq, maxlen=self.max_len, dtype='int32', padding='post')\n",
    "        self.decoder_out_seq = pad_sequences(self.decoder_out_seq, maxlen=self.max_len, dtype='int32', padding='post')\n",
    "        return self.encoder_seq, self.decoder_inp_seq, self.decoder_out_seq\n",
    "\n",
    "    def __len__(self): # your model.fit_gen requires this function\n",
    "        return len(self.encoder_inps)\n",
    "\n",
    "    \n",
    "class Dataloder(tf.keras.utils.Sequence):    \n",
    "    def __init__(self, dataset, batch_size=1):\n",
    "        self.dataset = dataset\n",
    "        self.batch_size = batch_size\n",
    "        self.indexes = np.arange(len(self.dataset.encoder_inps))\n",
    "\n",
    "\n",
    "    def __getitem__(self, i):\n",
    "        start = i * self.batch_size\n",
    "        stop = (i + 1) * self.batch_size\n",
    "        data = []\n",
    "        for j in range(start, stop):\n",
    "            data.append(self.dataset[j])\n",
    "\n",
    "        batch = [np.squeeze(np.stack(samples, axis=1), axis=0) for samples in zip(*data)]\n",
    "        # we are creating data like ([italian, english_inp], english_out) these are already converted into seq\n",
    "        return tuple([[batch[0],batch[1]],batch[2]])\n",
    "\n",
    "    def __len__(self):  # your model.fit_gen requires this function\n",
    "        return len(self.indexes) // self.batch_size\n",
    "\n",
    "    def on_epoch_end(self):\n",
    "        self.indexes = np.random.permutation(self.indexes)"
   ]
  },
  {
   "cell_type": "code",
   "execution_count": 61,
   "metadata": {},
   "outputs": [
    {
     "name": "stdout",
     "output_type": "stream",
     "text": [
      "(256, 20) (256, 20) (256, 20)\n"
     ]
    }
   ],
   "source": [
    "# making the train and testing datasets\n",
    "train_dataset = Dataset(train, tokenizer_ita, tokenizer_eng, 20)\n",
    "test_dataset  = Dataset(validation, tokenizer_ita, tokenizer_eng, 20)\n",
    "\n",
    "train_dataloader = Dataloder(train_dataset, batch_size=256)\n",
    "test_dataloader = Dataloder(test_dataset, batch_size=256)\n",
    "\n",
    "\n",
    "print(train_dataloader[0][0][0].shape, train_dataloader[0][0][1].shape, train_dataloader[0][1].shape)"
   ]
  },
  {
   "cell_type": "markdown",
   "metadata": {},
   "source": [
    "#### Model \n",
    "Here, the decoder lstm returns all the three outputs, i.e. the lstm outputs, hidden state and cell state.\n",
    "i.e. \n",
    "call() returns self.lstm_outputs, self.decoder_state_h and self.decoder_state_c"
   ]
  },
  {
   "cell_type": "code",
   "execution_count": 20,
   "metadata": {},
   "outputs": [],
   "source": [
    "tf.keras.backend.clear_session()\n",
    "#Create an object of encoder_decoder Model class, \n",
    "encoder_decoder_model2 = Encoder_decoder(enc_input_length=20, dec_inp_length=20, out_vocab_size=eng_vocab_size)\n",
    "# Compile the model and fit the model\n",
    "encoder_decoder_model2.compile(optimizer='adam', loss='sparse_categorical_crossentropy')"
   ]
  },
  {
   "cell_type": "code",
   "execution_count": 21,
   "metadata": {},
   "outputs": [
    {
     "name": "stdout",
     "output_type": "stream",
     "text": [
      "WARNING:tensorflow:`write_grads` will be ignored in TensorFlow 2.0 for the `TensorBoard` Callback.\n"
     ]
    }
   ],
   "source": [
    "# tensorboard\n",
    "from tensorflow.keras.callbacks import TensorBoard\n",
    "\n",
    "logdir = 'Logs\\\\Seq2Seq2'\n",
    "tensorboard = TensorBoard(log_dir=logdir, histogram_freq=1, write_graph=True, write_grads=True)\n",
    "callbacks = [tensorboard]"
   ]
  },
  {
   "cell_type": "code",
   "execution_count": 22,
   "metadata": {
    "scrolled": true
   },
   "outputs": [
    {
     "name": "stdout",
     "output_type": "stream",
     "text": [
      "(None, 20, 12859)\n",
      "WARNING:tensorflow:sample_weight modes were coerced from\n",
      "  ...\n",
      "    to  \n",
      "  ['...']\n",
      "Train for 1077 steps, validate for 1077 steps\n",
      "Epoch 1/30\n",
      "(None, None, 12859)\n",
      "(None, None, 12859)\n",
      "1076/1077 [============================>.] - ETA: 0s - loss: 7.0814(None, None, 12859)\n",
      "1077/1077 [==============================] - 201s 187ms/step - loss: 7.0806 - val_loss: 6.1334\n",
      "Epoch 2/30\n",
      "1077/1077 [==============================] - 194s 180ms/step - loss: 5.3229 - val_loss: 4.5189\n",
      "Epoch 3/30\n",
      "1077/1077 [==============================] - 198s 184ms/step - loss: 3.7858 - val_loss: 3.0435\n",
      "Epoch 4/30\n",
      "1077/1077 [==============================] - 194s 180ms/step - loss: 2.3911 - val_loss: 1.7578\n",
      "Epoch 5/30\n",
      "1077/1077 [==============================] - 194s 180ms/step - loss: 1.3177 - val_loss: 0.9414\n",
      "Epoch 6/30\n",
      "1077/1077 [==============================] - 194s 180ms/step - loss: 0.7537 - val_loss: 0.5848\n",
      "Epoch 7/30\n",
      "1077/1077 [==============================] - 194s 180ms/step - loss: 0.5108 - val_loss: 0.4234\n",
      "Epoch 8/30\n",
      "1077/1077 [==============================] - 194s 180ms/step - loss: 0.3901 - val_loss: 0.3335\n",
      "Epoch 9/30\n",
      "1077/1077 [==============================] - 194s 180ms/step - loss: 0.3183 - val_loss: 0.2751\n",
      "Epoch 10/30\n",
      "1077/1077 [==============================] - 193s 180ms/step - loss: 0.2699 - val_loss: 0.2380\n",
      "Epoch 11/30\n",
      "1077/1077 [==============================] - 195s 181ms/step - loss: 0.2347 - val_loss: 0.2060\n",
      "Epoch 12/30\n",
      "1077/1077 [==============================] - 194s 181ms/step - loss: 0.2078 - val_loss: 0.1841\n",
      "Epoch 13/30\n",
      "1077/1077 [==============================] - 195s 181ms/step - loss: 0.1866 - val_loss: 0.1644\n",
      "Epoch 14/30\n",
      "1077/1077 [==============================] - 194s 181ms/step - loss: 0.1692 - val_loss: 0.1492\n",
      "Epoch 15/30\n",
      "1077/1077 [==============================] - 195s 181ms/step - loss: 0.1548 - val_loss: 0.1380\n",
      "Epoch 16/30\n",
      "1077/1077 [==============================] - 195s 181ms/step - loss: 0.1427 - val_loss: 0.1273\n",
      "Epoch 17/30\n",
      "1077/1077 [==============================] - 195s 181ms/step - loss: 0.1325 - val_loss: 0.1181\n",
      "Epoch 18/30\n",
      "1077/1077 [==============================] - 196s 182ms/step - loss: 0.1233 - val_loss: 0.1099\n",
      "Epoch 19/30\n",
      "1077/1077 [==============================] - 199s 185ms/step - loss: 0.1153 - val_loss: 0.1021\n",
      "Epoch 20/30\n",
      "1077/1077 [==============================] - 199s 185ms/step - loss: 0.1081 - val_loss: 0.0972\n",
      "Epoch 21/30\n",
      "1077/1077 [==============================] - 198s 184ms/step - loss: 0.1017 - val_loss: 0.0907\n",
      "Epoch 22/30\n",
      "1077/1077 [==============================] - 195s 181ms/step - loss: 0.0957 - val_loss: 0.0849\n",
      "Epoch 23/30\n",
      "1077/1077 [==============================] - 196s 182ms/step - loss: 0.0906 - val_loss: 0.0798\n",
      "Epoch 24/30\n",
      "1077/1077 [==============================] - 196s 182ms/step - loss: 0.0857 - val_loss: 0.0756\n",
      "Epoch 25/30\n",
      "1077/1077 [==============================] - 198s 184ms/step - loss: 0.0812 - val_loss: 0.0709\n",
      "Epoch 26/30\n",
      "1077/1077 [==============================] - 197s 183ms/step - loss: 0.0770 - val_loss: 0.0679\n",
      "Epoch 27/30\n",
      "1077/1077 [==============================] - 200s 186ms/step - loss: 0.0733 - val_loss: 0.0648\n",
      "Epoch 28/30\n",
      "1077/1077 [==============================] - 198s 184ms/step - loss: 0.0697 - val_loss: 0.0612\n",
      "Epoch 29/30\n",
      "1077/1077 [==============================] - 197s 183ms/step - loss: 0.0666 - val_loss: 0.0582\n",
      "Epoch 30/30\n",
      "1077/1077 [==============================] - 199s 184ms/step - loss: 0.0635 - val_loss: 0.0554\n",
      "Model: \"encoder_decoder\"\n",
      "_________________________________________________________________\n",
      "Layer (type)                 Output Shape              Param #   \n",
      "=================================================================\n",
      "encoder (Encoder)            multiple                  1627068   \n",
      "_________________________________________________________________\n",
      "decoder (Decoder)            multiple                  1651568   \n",
      "_________________________________________________________________\n",
      "dense (Dense)                multiple                  3304763   \n",
      "=================================================================\n",
      "Total params: 6,583,399\n",
      "Trainable params: 5,297,399\n",
      "Non-trainable params: 1,286,000\n",
      "_________________________________________________________________\n"
     ]
    }
   ],
   "source": [
    "# fitting the model\n",
    "train_steps=train.shape[0]//256\n",
    "valid_steps=validation.shape[0]//256\n",
    "encoder_decoder_model2.fit(train_dataloader, steps_per_epoch=1077, epochs=30, validation_data=test_dataloader, validation_steps=1077, callbacks=callbacks)\n",
    "encoder_decoder_model2.summary()"
   ]
  },
  {
   "cell_type": "code",
   "execution_count": 24,
   "metadata": {},
   "outputs": [],
   "source": [
    "# saving the model weights\n",
    "encoder_decoder_model2.save_weights('Seq2Seqwt2.h5')"
   ]
  },
  {
   "cell_type": "markdown",
   "metadata": {},
   "source": [
    "#### Translating a few sentences and calculating the bleu score"
   ]
  },
  {
   "cell_type": "code",
   "execution_count": 38,
   "metadata": {
    "id": "SkARSlZgLOfE"
   },
   "outputs": [
    {
     "name": "stdout",
     "output_type": "stream",
     "text": [
      "Original Sentence: tom non ha risposto al telefono\n",
      "Translated using Seq2Seq: tom did not answer the phone <end>\n",
      "Actual Translation: tom did not answer the phone <end>\n"
     ]
    }
   ],
   "source": [
    "def predict(input_sentence):\n",
    "    '''\n",
    "    A. Given input sentence, convert the sentence into integers using tokenizer used earlier\n",
    "    B. Pass the input_sequence to encoder. we get encoder_outputs, last time step hidden and cell state\n",
    "    C. Initialize index of <start> as input to decoder. and encoder final states as input_states to decoder\n",
    "    D. till we reach max_length of decoder or till the model predicted word <end>:\n",
    "         predicted_out,state_h,state_c=model.layers[1](dec_input,states)\n",
    "         pass the predicted_out to the dense layer\n",
    "         update the states=[state_h,state_c]\n",
    "         And get the index of the word with maximum probability of the dense layer output, using the tokenizer(word index) get the word and then store it in a string.\n",
    "         Update the input_to_decoder with current predictions\n",
    "    F. Return the predicted sentence\n",
    "    '''\n",
    "    # tokenize the sentence\n",
    "    inp_tokens = np.asarray(tokenizer_ita.texts_to_sequences([input_sentence]))\n",
    "    if inp_tokens.size == 0: # if ther input is only one word which is not present in the vocabulary\n",
    "        inp_tokens = np.array([[1]])\n",
    "    # passing the sentence to the encoder and getting encoder outputs, final hidden state and cell states\n",
    "    encoder = encoder_decoder_model2.layers[0]\n",
    "    enc_states = encoder.initialize_states(1)\n",
    "    enc_out, enc_state_h, enc_state_c = encoder(inp_tokens, enc_states)\n",
    "    \n",
    "    \n",
    "    # passing the encoder outputs to the decoder and predictng the translation\n",
    "    start_token = '<start>' # the starting sequence as input to the decoder\n",
    "    output = [] # for storing the final output\n",
    "    states = [enc_state_h, enc_state_c]\n",
    "    decoder = encoder_decoder_model2.layers[1]\n",
    "    dense = encoder_decoder_model2.layers[2]\n",
    "    dec_inp = np.asarray(tokenizer_eng.texts_to_sequences([start_token]))\n",
    "    \n",
    "    # looping\n",
    "    iteration = 0 # for counting the number of instances already predicted\n",
    "    while True:\n",
    "        # making predictions using the decoder\n",
    "        pred_out, state_h, state_c = decoder(dec_inp, states)\n",
    "        # passing the pred_out to the dense model for prediction\n",
    "        # passing pred out to the softmax layer\n",
    "        soft_out = dense(pred_out)\n",
    "        \n",
    "        # updating the states\n",
    "        states = [state_h, state_c]\n",
    "        \n",
    "        # getting the word corresponding to the largest probability value\n",
    "        ind = np.argmax(soft_out)\n",
    "        # getting the word and appending to the final list\n",
    "        wrd = list(tokenizer_eng.word_index.keys())[ind-1]\n",
    "        \n",
    "        # updating the dec_inp\n",
    "        dec_inp = np.asarray(tokenizer_eng.texts_to_sequences([wrd]))\n",
    "        output.append(wrd) # appending the word to the output list\n",
    "        if wrd=='<end>':\n",
    "            return \" \".join(output)\n",
    "        \n",
    "        # adding 1 to the iteration count\n",
    "        iteration+=1\n",
    "        if iteration==20:\n",
    "            return \" \".join(output)\n",
    "\n",
    "print(\"Original Sentence:\", train['italian'].iloc[1501])\n",
    "print(\"Translated using Seq2Seq:\", predict(train['italian'].iloc[1501]))\n",
    "print(\"Actual Translation:\", train['english_output'].iloc[1501])"
   ]
  },
  {
   "cell_type": "code",
   "execution_count": 43,
   "metadata": {
    "id": "996pFO8BLOfG"
   },
   "outputs": [
    {
     "name": "stdout",
     "output_type": "stream",
     "text": [
      "(1000, 3)\n"
     ]
    },
    {
     "data": {
      "text/html": [
       "<div>\n",
       "<style scoped>\n",
       "    .dataframe tbody tr th:only-of-type {\n",
       "        vertical-align: middle;\n",
       "    }\n",
       "\n",
       "    .dataframe tbody tr th {\n",
       "        vertical-align: top;\n",
       "    }\n",
       "\n",
       "    .dataframe thead th {\n",
       "        text-align: right;\n",
       "    }\n",
       "</style>\n",
       "<table border=\"1\" class=\"dataframe\">\n",
       "  <thead>\n",
       "    <tr style=\"text-align: right;\">\n",
       "      <th></th>\n",
       "      <th>italian</th>\n",
       "      <th>english_input</th>\n",
       "      <th>english_output</th>\n",
       "    </tr>\n",
       "  </thead>\n",
       "  <tbody>\n",
       "    <tr>\n",
       "      <th>183327</th>\n",
       "      <td>lei si prese cura della bambina</td>\n",
       "      <td>&lt;start&gt; she took care of the child</td>\n",
       "      <td>she took care of the child &lt;end&gt;</td>\n",
       "    </tr>\n",
       "    <tr>\n",
       "      <th>315271</th>\n",
       "      <td>quasi tutti quelli che conosco sanno nuotare</td>\n",
       "      <td>&lt;start&gt; almost everyone i know knows how to swim</td>\n",
       "      <td>almost everyone i know knows how to swim &lt;end&gt;</td>\n",
       "    </tr>\n",
       "    <tr>\n",
       "      <th>258484</th>\n",
       "      <td>deve farlo immediatamente</td>\n",
       "      <td>&lt;start&gt; you ought to do that right away</td>\n",
       "      <td>you ought to do that right away &lt;end&gt;</td>\n",
       "    </tr>\n",
       "    <tr>\n",
       "      <th>332448</th>\n",
       "      <td>mia madre non fa più il bucato per me</td>\n",
       "      <td>&lt;start&gt; my mother does not do my laundry for m...</td>\n",
       "      <td>my mother does not do my laundry for me anymor...</td>\n",
       "    </tr>\n",
       "    <tr>\n",
       "      <th>133231</th>\n",
       "      <td>ho bisogno di un saldatore</td>\n",
       "      <td>&lt;start&gt; i need a soldering iron</td>\n",
       "      <td>i need a soldering iron &lt;end&gt;</td>\n",
       "    </tr>\n",
       "  </tbody>\n",
       "</table>\n",
       "</div>"
      ],
      "text/plain": [
       "                                             italian  \\\n",
       "183327               lei si prese cura della bambina   \n",
       "315271  quasi tutti quelli che conosco sanno nuotare   \n",
       "258484                     deve farlo immediatamente   \n",
       "332448         mia madre non fa più il bucato per me   \n",
       "133231                    ho bisogno di un saldatore   \n",
       "\n",
       "                                            english_input  \\\n",
       "183327                 <start> she took care of the child   \n",
       "315271   <start> almost everyone i know knows how to swim   \n",
       "258484            <start> you ought to do that right away   \n",
       "332448  <start> my mother does not do my laundry for m...   \n",
       "133231                    <start> i need a soldering iron   \n",
       "\n",
       "                                           english_output  \n",
       "183327                   she took care of the child <end>  \n",
       "315271     almost everyone i know knows how to swim <end>  \n",
       "258484              you ought to do that right away <end>  \n",
       "332448  my mother does not do my laundry for me anymor...  \n",
       "133231                      i need a soldering iron <end>  "
      ]
     },
     "execution_count": 43,
     "metadata": {},
     "output_type": "execute_result"
    }
   ],
   "source": [
    "# Predict on 1000 random sentences on test data and calculate the average BLEU score of these sentences.\n",
    "# https://www.nltk.org/_modules/nltk/translate/bleu_score.html\n",
    "import nltk.translate.bleu_score as bleu\n",
    "\n",
    "# taking 1000 sentences from test data randomly\n",
    "# sample = validation.sample(n=1000, random_state=1)\n",
    "sample = validation.iloc[:1000]\n",
    "print(sample.shape)\n",
    "sample.head()"
   ]
  },
  {
   "cell_type": "code",
   "execution_count": 41,
   "metadata": {},
   "outputs": [
    {
     "name": "stderr",
     "output_type": "stream",
     "text": [
      "100%|██████████████████████████████████████████████████████████████████████████████| 1000/1000 [00:42<00:00, 23.28it/s]"
     ]
    },
    {
     "name": "stdout",
     "output_type": "stream",
     "text": [
      "1000\n",
      "Original Italian sentence: lei si prese cura della bambina\n",
      "Actual English Translation: she took care of the child <end>\n",
      "Translation done by the model: she took care of the child <end>\n",
      "----------------------------------------------------------------------------------------------------\n",
      "Original Italian sentence: quasi tutti quelli che conosco sanno nuotare\n",
      "Actual English Translation: almost everyone i know knows how to swim <end>\n",
      "Translation done by the model: almost everyone i know can swim <end>\n",
      "----------------------------------------------------------------------------------------------------\n",
      "Original Italian sentence: deve farlo immediatamente\n",
      "Actual English Translation: you ought to do that right away <end>\n",
      "Translation done by the model: you must do that right away <end>\n",
      "----------------------------------------------------------------------------------------------------\n",
      "Original Italian sentence: mia madre non fa più il bucato per me\n",
      "Actual English Translation: my mother does not do my laundry for me anymore <end>\n",
      "Translation done by the model: my mother does not laundry all i am going <end>\n",
      "----------------------------------------------------------------------------------------------------\n",
      "Original Italian sentence: ho bisogno di un saldatore\n",
      "Actual English Translation: i need a soldering iron <end>\n",
      "Translation done by the model: i need a soldering iron <end>\n",
      "----------------------------------------------------------------------------------------------------\n"
     ]
    },
    {
     "name": "stderr",
     "output_type": "stream",
     "text": [
      "\n"
     ]
    }
   ],
   "source": [
    "from tqdm import tqdm\n",
    "# getting translations for the sample italian sentences\n",
    "sample_translations = []\n",
    "\n",
    "for sent in tqdm(sample['italian']):\n",
    "    trans = predict(sent)\n",
    "    sample_translations.append(trans)\n",
    "\n",
    "print(len(sample_translations))\n",
    "\n",
    "# printing some translations\n",
    "for i in range(5):\n",
    "    print('Original Italian sentence:', sample.iloc[i]['italian'])\n",
    "    print('Actual English Translation:', sample.iloc[i]['english_output'])\n",
    "    print('Translation done by the model:', sample_translations[i])\n",
    "    print('-'*100)"
   ]
  },
  {
   "cell_type": "code",
   "execution_count": 82,
   "metadata": {},
   "outputs": [
    {
     "name": "stdout",
     "output_type": "stream",
     "text": [
      "Aerage bleu score: 0.5955364678958157\n"
     ]
    }
   ],
   "source": [
    "# calculating bleu score for each sentence\n",
    "bleu_scores = [bleu.sentence_bleu([sample['english_output'].iloc[i].split()[:-1]], sample_translations[i].split()[:-1]) for i in range(1000)]\n",
    "\n",
    "# calculating the average bleu score\n",
    "print(\"Aerage bleu score:\", sum(bleu_scores)/len(bleu_scores))"
   ]
  },
  {
   "cell_type": "markdown",
   "metadata": {
    "id": "yZhX3K9GLOfJ"
   },
   "source": [
    "## Task -2: Including Attention mechanisum"
   ]
  },
  {
   "cell_type": "markdown",
   "metadata": {
    "id": "Q3d7GeBMGbsJ"
   },
   "source": [
    "1. Use the preprocessed data from Task-1\n",
    "\n",
    "2. You have to implement an Encoder and Decoder architecture with  \n",
    "attention as discussed in the reference notebook.\n",
    "\n",
    "    * Encoder   - with 1 layer LSTM <br>\n",
    "    * Decoder   - with 1 layer LSTM<br>\n",
    "    * attention -  (Please refer the <a href= 'https://drive.google.com/file/d/1z_bnc-3aubKawbR6q8wyI6Mh5ho2R1aZ/view?usp=sharing'>**reference notebook**</a> to know more about the attention mechanism.)\n",
    "3. In Global attention, we have 3 types of scoring functions(as discussed in the reference notebook).\n",
    " As a part of this assignment **you need to create 3 models for each scoring function**\n",
    "<img src='https://i.imgur.com/iD2jZo3.png'>\n",
    "\n",
    "    * In model 1 you need to implemnt \"dot\" score function\n",
    "    * In model 2 you need to implemnt \"general\" score function\n",
    "    * In model 3 you need to implemnt \"concat\" score function.<br>\n",
    "    \n",
    " **Please do add the markdown titles for each model so that we can have a better look at the code and verify.**\n",
    "4. It is mandatory to train the model with simple model.fit() only, Donot train the model with custom GradientTape()\n",
    "\n",
    "5. Using attention weights, you can plot the attention plots, \n",
    "please plot those for 2-3 examples. You can check about those in <a href=\"https://www.tensorflow.org/tutorials/text/nmt_with_attention#translate\">this</a>\n",
    "\n",
    "6. The attention layer has to be written by yourself only. \n",
    "The main objective of this assignment is to read and implement a paper on yourself so please do it yourself.  \n",
    "\n",
    "7. Please implement the class **onestepdecoder** as mentioned in the assignment instructions.\n",
    "\n",
    "8. You can use any tf.Keras highlevel API's to build and train the models. \n",
    " Check the reference notebook for better understanding.\n",
    "\n",
    "9. Use BLEU score as metric to evaluate your model. You can use any loss function you need.\n",
    "\n",
    "10. You have to use Tensorboard to plot the Graph, Scores and histograms of gradients. \n",
    "\n",
    "11. Resources:\n",
    "    a. Check the reference notebook\n",
    "    b. <a href=\"https://jalammar.github.io/visualizing-neural-machine-translation-mechanics-of-seq2seq-models-with-attention/\">Resource 1</a>\n",
    "    c. <a href=\"https://www.tensorflow.org/tutorials/text/nmt_with_attention\">Resource 2</a>\n",
    "    d. <a href=\"https://stackoverflow.com/questions/44238154/what-is-the-difference-between-luong-attention-and-bahdanau-attention#:~:text=Luong%20attention%20used%20top%20hidden,hidden%20state%20at%20time%20t.\">Resource 3</a>\n",
    "    "
   ]
  },
  {
   "cell_type": "markdown",
   "metadata": {
    "id": "PU4KIsGxLOfK"
   },
   "source": [
    "### <font color='blue'>**Implement custom encoder decoder and attention layers**</font>"
   ]
  },
  {
   "cell_type": "markdown",
   "metadata": {
    "id": "TMm3ADQDLOfK"
   },
   "source": [
    "<font color='blue'>**Encoder**</font>"
   ]
  },
  {
   "cell_type": "code",
   "execution_count": 7,
   "metadata": {
    "id": "Lx_5NA24KzRp"
   },
   "outputs": [],
   "source": [
    "class Encoder(tf.keras.Model):\n",
    "    '''\n",
    "    Encoder model -- That takes a input sequence and returns output sequence\n",
    "    '''\n",
    "\n",
    "    def __init__(self,inp_vocab_size,embedding_size,lstm_size,input_length):\n",
    "        super().__init__()\n",
    "        # initializing the important variables\n",
    "        self.inp_vocab_size = inp_vocab_size\n",
    "        self.embedding_size = embedding_size\n",
    "        self.lstm_size = lstm_size\n",
    "        self.input_length = input_length\n",
    "        #Initialize Embedding layer\n",
    "        self.embedding = Embedding(input_dim=self.inp_vocab_size+1, output_dim=self.embedding_size,\n",
    "                                   input_length=self.input_length, mask_zero=True, name='Encoder_Embeddings')\n",
    "        #Intialize Encoder LSTM layer\n",
    "        self.lstm = LSTM(units=self.lstm_size, return_sequences=True, return_state=True, name='Encoder_LSTM', kernel_initializer='he_normal')\n",
    "\n",
    "    def call(self,input_sequence,states=None):\n",
    "        '''\n",
    "          This function takes a sequence input and the initial states of the encoder.\n",
    "          Pass the input_sequence input to the Embedding layer, Pass the embedding layer ouput to encoder_lstm\n",
    "          returns -- All encoder_outputs, last time steps hidden and cell state\n",
    "        '''\n",
    "        embeddings_out = self.embedding(input_sequence)\n",
    "        lstm_out, self.encoder_state_h, self.encoder_state_c = self.lstm(embeddings_out, initial_state=states)\n",
    "        return lstm_out, self.encoder_state_h, self.encoder_state_c\n",
    "        \n",
    "\n",
    "    \n",
    "    def initialize_states(self,batch_size):\n",
    "        '''\n",
    "        Given a batch size it will return intial hidden state and intial cell state.\n",
    "        If batch size is 32- Hidden state is zeros of size [32,lstm_units], cell state zeros is of size [32,lstm_units]\n",
    "        '''\n",
    "        self.encoder_state_h = tf.zeros((batch_size, self.lstm_size))\n",
    "        self.encoder_state_c = tf.zeros((batch_size, self.lstm_size))\n",
    "        return self.encoder_state_h, self.encoder_state_c\n"
   ]
  },
  {
   "cell_type": "markdown",
   "metadata": {
    "id": "4ub9aN-hK244"
   },
   "source": [
    "<font color='cyan'>**Grader function - 1**</font>"
   ]
  },
  {
   "cell_type": "code",
   "execution_count": 8,
   "metadata": {
    "id": "wRoe65b9LB0D"
   },
   "outputs": [
    {
     "name": "stdout",
     "output_type": "stream",
     "text": [
      "True\n"
     ]
    }
   ],
   "source": [
    "def grader_check_encoder():\n",
    "    \n",
    "    '''\n",
    "        vocab-size: Unique words of the input language,\n",
    "        embedding_size: output embedding dimension for each word after embedding layer,\n",
    "        lstm_size: Number of lstm units in encoder,\n",
    "        input_length: Length of the input sentence,\n",
    "        batch_size\n",
    "    '''\n",
    "    \n",
    "    vocab_size=10\n",
    "    embedding_size=20\n",
    "    lstm_size=32\n",
    "    input_length=10\n",
    "    batch_size=16\n",
    "    encoder=Encoder(vocab_size,embedding_size,lstm_size,input_length)\n",
    "    input_sequence=tf.random.uniform(shape=[batch_size,input_length],maxval=vocab_size,minval=0,dtype=tf.int32)\n",
    "    initial_state=encoder.initialize_states(batch_size)\n",
    "    encoder_output,state_h,state_c=encoder(input_sequence,initial_state)\n",
    "    \n",
    "    assert(encoder_output.shape==(batch_size,input_length,lstm_size) and state_h.shape==(batch_size,lstm_size) and state_c.shape==(batch_size,lstm_size))\n",
    "    return True\n",
    "print(grader_check_encoder())"
   ]
  },
  {
   "cell_type": "markdown",
   "metadata": {
    "id": "lXn278lhLYRM"
   },
   "source": [
    "<font color='blue'>**Attention**</font>"
   ]
  },
  {
   "cell_type": "code",
   "execution_count": 8,
   "metadata": {
    "id": "ab5SNdPZLlur"
   },
   "outputs": [],
   "source": [
    "class Attention(tf.keras.layers.Layer):\n",
    "    '''\n",
    "    Class the calculates score based on the scoring_function using Bahdanu attention mechanism.\n",
    "    '''\n",
    "    def __init__(self,scoring_function, att_units):\n",
    "        super(Attention, self).__init__()\n",
    "        # Please go through the reference notebook and research paper to complete the scoring functions\n",
    "        self.scoring_function = scoring_function\n",
    "        self.att_units = att_units\n",
    "\n",
    "        if scoring_function == 'general':\n",
    "            # Intialize variables needed for General score function here\n",
    "            # dense layer\n",
    "            self.dense = Dense(units=self.att_units)\n",
    "\n",
    "        elif scoring_function == 'concat':\n",
    "            # Intialize variables needed for Concat score function here\n",
    "            self.W1 = Dense(self.att_units)\n",
    "            self.W2 = Dense(self.att_units)\n",
    "            self.fin = Dense(1)\n",
    "  \n",
    "    def call(self,decoder_hidden_state,encoder_output):\n",
    "        '''\n",
    "        Attention mechanism takes two inputs current step -- decoder_hidden_state and all the encoder_outputs.\n",
    "        * Based on the scoring function we will find the score or similarity between decoder_hidden_state and encoder_output.\n",
    "        Multiply the score function with your encoder_outputs to get the context vector.\n",
    "        Function returns context vector and attention weights(softmax - scores)\n",
    "        '''\n",
    "        if self.scoring_function == 'dot':\n",
    "            # Implement Dot score function here|\n",
    "            # first, we need to reshape the decoder_hidden state from (batch_size, att_units) to (batch_size, att_units, 1)\n",
    "            decoder_hidden_state = tf.reshape(decoder_hidden_state, shape=(tf.shape(decoder_hidden_state)[0],1,tf.shape(decoder_hidden_state)[1])) # tf.expand_dims(decoder_hidden_state, axis=-1)\n",
    "            # calcluating similarities\n",
    "            score = tf.matmul(decoder_hidden_state, encoder_output, transpose_b=True)\n",
    "            # transposing score\n",
    "            score = tf.transpose(score, [0,2,1])\n",
    "\n",
    "        elif self.scoring_function == 'general':\n",
    "            # Implement General score function here\n",
    "            # reshaping the decoder hidden state\n",
    "            decoder_hidden_state = tf.reshape(decoder_hidden_state, shape=(tf.shape(decoder_hidden_state)[0],1,tf.shape(decoder_hidden_state)[1]))\n",
    "            # calculating similarities\n",
    "            score = tf.matmul(decoder_hidden_state, self.dense(encoder_output), transpose_b=True) # this will return an array of shape (batch_size,1,inputs)\n",
    "            # transposing\n",
    "            score = tf.transpose(score, [0,2,1])\n",
    "            \n",
    "        elif self.scoring_function == 'concat':\n",
    "            # Implement General score function here\n",
    "            # calculating the similarities            \n",
    "            # FINAL\n",
    "            # reshaping inputs from the decoder\n",
    "            decoder_hidden_state = tf.reshape(decoder_hidden_state, shape=(tf.shape(decoder_hidden_state)[0], 1, tf.shape(decoder_hidden_state)[1]))\n",
    "            # applying tanh\n",
    "            inter_ = tf.tanh(self.W1(encoder_output) + self.W2(decoder_hidden_state))\n",
    "            # calculating final score\n",
    "            score = self.fin(inter_)\n",
    "        \n",
    "        # applying softmax to get the attention weights\n",
    "        attention_wts = tf.nn.softmax(score, axis=1) # this will be of the shape (batch_size,input_length,1)\n",
    "        # print(attention_wts)\n",
    "        # now, calculating the context vector by multiplying each wt to the corresponding encoder hidden state\n",
    "        context_vector = tf.matmul(attention_wts, encoder_output, transpose_a=True)\n",
    "        context_vector = tf.reshape(context_vector, shape=(tf.shape(context_vector)[0] ,tf.shape(context_vector)[2]))\n",
    "        return context_vector, attention_wts"
   ]
  },
  {
   "cell_type": "markdown",
   "metadata": {
    "id": "ExQDlxI9LuqK"
   },
   "source": [
    "<font color='cyan'>**Grader function - 2**</font>"
   ]
  },
  {
   "cell_type": "code",
   "execution_count": 10,
   "metadata": {
    "id": "51x50h_TLrl9"
   },
   "outputs": [
    {
     "name": "stdout",
     "output_type": "stream",
     "text": [
      "True\n",
      "True\n",
      "True\n"
     ]
    }
   ],
   "source": [
    "def grader_check_attention(scoring_fun):\n",
    "    \n",
    "    ''' \n",
    "        att_units: Used in matrix multiplications for scoring functions,\n",
    "        input_length: Length of the input sentence,\n",
    "        batch_size\n",
    "    '''\n",
    "    \n",
    "    input_length=10\n",
    "    batch_size=16\n",
    "    att_units=32\n",
    "    \n",
    "    state_h=tf.random.uniform(shape=[batch_size,att_units])\n",
    "    encoder_output=tf.random.uniform(shape=[batch_size,input_length,att_units])\n",
    "    attention=Attention(scoring_fun,att_units)\n",
    "    context_vector,attention_weights=attention(state_h,encoder_output)\n",
    "    assert(context_vector.shape==(batch_size,att_units) and attention_weights.shape==(batch_size,input_length,1))\n",
    "    return True\n",
    "print(grader_check_attention('dot'))\n",
    "print(grader_check_attention('general'))\n",
    "print(grader_check_attention('concat'))"
   ]
  },
  {
   "cell_type": "markdown",
   "metadata": {
    "id": "ic-FNEbfL2DN"
   },
   "source": [
    "<font color='blue'>**OneStepDecoder**</font>"
   ]
  },
  {
   "cell_type": "code",
   "execution_count": 9,
   "metadata": {
    "id": "Kc8m7lmOL097"
   },
   "outputs": [],
   "source": [
    "class OneStepDecoder(tf.keras.Model):\n",
    "    def __init__(self,tar_vocab_size, embedding_dim, input_length, dec_units ,score_fun ,att_units):\n",
    "        super(OneStepDecoder, self).__init__()\n",
    "        # Initialize decoder embedding layer, LSTM and any other objects needed\n",
    "        self.tar_vocab_size = tar_vocab_size\n",
    "        self.embedding_dim = embedding_dim\n",
    "        self.input_length = input_length\n",
    "        self.dec_units = dec_units\n",
    "        self.score_fun = score_fun\n",
    "        self.att_units = att_units\n",
    "        \n",
    "        # embedding layer\n",
    "        self.embedding = Embedding(input_dim=self.tar_vocab_size+1, output_dim=self.embedding_dim, mask_zero=True, input_length=self.input_length,\n",
    "                                   name='Decoder_embedding')\n",
    "        # attention layer\n",
    "        self.attention = Attention(self.score_fun, self.att_units)\n",
    "        # lstm layer\n",
    "        self.lstm = LSTM(units=self.dec_units, return_state=True, return_sequences=True, name='Decoder_LSTM')\n",
    "        # dense layer\n",
    "        self.dense = Dense(self.tar_vocab_size)\n",
    "        \n",
    "    def call(self,input_to_decoder, encoder_output, state_h,state_c):\n",
    "        '''\n",
    "            One step decoder mechanisim step by step:\n",
    "          A. Pass the input_to_decoder to the embedding layer and then get the output(batch_size,1,embedding_dim)\n",
    "          B. Using the encoder_output and decoder hidden state, compute the context vector.\n",
    "          C. Concat the context vector with the step A output\n",
    "          D. Pass the Step-C output to LSTM/GRU and get the decoder output and states(hidden and cell state)\n",
    "          E. Pass the decoder output to dense layer(vocab size) and store the result into output.\n",
    "          F. Return the states from step D, output from Step E, attention weights from Step -B\n",
    "        '''\n",
    "        # getting the embeddings for the input\n",
    "        embedding_out = self.embedding(input_to_decoder)\n",
    "        context_vector, attention_wts = self.attention(state_h, encoder_output)\n",
    "        context_out = context_vector\n",
    "        # the embedding_out is of shape (batch_size,1,embedding_dim) and the context vector is of shape (batch_size,att_units)\n",
    "        # thus, we need to reshape the context vector to be (batch_size,1,attention_units) so that we can concatenate them\n",
    "        context_vector = tf.reshape(context_vector, shape=(tf.shape(context_vector)[0],1,tf.shape(context_vector)[1]))\n",
    "        # concatenating the context vector by concatenating\n",
    "        concat_out = concatenate([embedding_out, context_vector])\n",
    "        # print('Concatenation successfull')\n",
    "        # passing concat_out to the lstm\n",
    "        lstm_out, state_h, state_c = self.lstm(concat_out, initial_state=[state_h, state_c])\n",
    "        # passing to the dense layer - since we are passing one time step to the lstm, the output and hidden state will be\n",
    "        # same with just different shapes. Thus to get the output of shape (batch_size, tar_vocab_size), we will reshape the\n",
    "        # lstm output\n",
    "        lstm_out = tf.reshape(lstm_out, shape=(tf.shape(lstm_out)[0], tf.shape(lstm_out)[2]))\n",
    "        output = self.dense(lstm_out)\n",
    "        \n",
    "        return output, state_h, state_c, attention_wts, context_out\n"
   ]
  },
  {
   "cell_type": "markdown",
   "metadata": {
    "id": "R_I8I4EIMAXq"
   },
   "source": [
    "<font color='cyan'>**Grader function - 3**</font>"
   ]
  },
  {
   "cell_type": "code",
   "execution_count": 12,
   "metadata": {
    "id": "uLEXhChnMC1k"
   },
   "outputs": [
    {
     "name": "stdout",
     "output_type": "stream",
     "text": [
      "True\n",
      "True\n",
      "True\n"
     ]
    }
   ],
   "source": [
    "def grader_onestepdecoder(score_fun):\n",
    "    \n",
    "    '''\n",
    "        tar_vocab_size: Unique words of the target language,\n",
    "        embedding_dim: output embedding dimension for each word after embedding layer,\n",
    "        dec_units: Number of lstm units in decoder,\n",
    "        att_units: Used in matrix multiplications for scoring functions in attention class,\n",
    "        input_length: Length of the target sentence,\n",
    "        batch_size\n",
    "        \n",
    "    \n",
    "    '''\n",
    "    \n",
    "    tar_vocab_size=13 \n",
    "    embedding_dim=12 \n",
    "    input_length=10\n",
    "    dec_units=16 \n",
    "    att_units=16\n",
    "    batch_size=32\n",
    "    onestepdecoder=OneStepDecoder(tar_vocab_size, embedding_dim, input_length, dec_units ,score_fun ,att_units)\n",
    "    input_to_decoder=tf.random.uniform(shape=(batch_size,1),maxval=10,minval=1,dtype=tf.int32)\n",
    "    encoder_output=tf.random.uniform(shape=[batch_size,input_length,dec_units])\n",
    "    state_h=tf.random.uniform(shape=[batch_size,dec_units])\n",
    "    state_c=tf.random.uniform(shape=[batch_size,dec_units])\n",
    "    output,state_h,state_c,attention_weights,context_vector=onestepdecoder(input_to_decoder,encoder_output,state_h,state_c)\n",
    "    assert(output.shape==(batch_size,tar_vocab_size))\n",
    "    assert(state_h.shape==(batch_size,dec_units))\n",
    "    assert(state_c.shape==(batch_size,dec_units))\n",
    "    assert(attention_weights.shape==(batch_size,input_length,1))\n",
    "    assert(context_vector.shape==(batch_size,dec_units))\n",
    "    return True\n",
    "    \n",
    "print(grader_onestepdecoder('dot'))\n",
    "print(grader_onestepdecoder('general'))\n",
    "print(grader_onestepdecoder('concat'))\n",
    "    "
   ]
  },
  {
   "cell_type": "markdown",
   "metadata": {
    "id": "6FHrurjUMGAi"
   },
   "source": [
    "<font color='blue'>**Decoder**</font>"
   ]
  },
  {
   "cell_type": "code",
   "execution_count": 10,
   "metadata": {
    "id": "NV-x31rj6Hc4"
   },
   "outputs": [],
   "source": [
    "class Decoder(tf.keras.Model):\n",
    "    def __init__(self,out_vocab_size, embedding_dim, input_length, dec_units, score_fun, att_units):\n",
    "        #Intialize necessary variables and create an object from the class onestepdecoder\n",
    "        super(Decoder, self).__init__()\n",
    "        self.out_vocab_size = out_vocab_size\n",
    "        self.embedding_dim = embedding_dim\n",
    "        self.input_length = input_length\n",
    "        self.dec_units = dec_units\n",
    "        self.score_fun = score_fun\n",
    "        self.att_units = att_units\n",
    "        # initializing the onestepdecoder\n",
    "        self.onestepdecoder = OneStepDecoder(tar_vocab_size=self.out_vocab_size, embedding_dim=self.embedding_dim,\n",
    "                                             input_length=self.input_length, dec_units=self.dec_units, \n",
    "                                             score_fun=self.score_fun, att_units=self.att_units)\n",
    "    \n",
    "    @tf.function\n",
    "    def call(self, input_to_decoder,encoder_output,decoder_hidden_state,decoder_cell_state):\n",
    "        #Initialize an empty Tensor array, that will store the outputs at each and every time step\n",
    "        #Create a tensor array as shown in the reference notebook\n",
    "        all_outputs = tf.TensorArray(dtype=tf.float32, size=tf.shape(encoder_output)[1], name='output_arrays')\n",
    "        \n",
    "        #Iterate till the length of the decoder input\n",
    "        for timestep in range(tf.shape(input_to_decoder)[1]):\n",
    "            # Call onestepdecoder for each token in decoder_input\n",
    "            output, decoder_hidden_state, decoder_cell_state, attention_wts, context_vector = self.onestepdecoder(\n",
    "                input_to_decoder[:,timestep:timestep+1], encoder_output, decoder_hidden_state, decoder_cell_state)\n",
    "            # Store the output in tensorarray\n",
    "            all_outputs = all_outputs.write(timestep, output)\n",
    "            # print('-'*100)\n",
    "        # Return the tensor array\n",
    "        all_outputs = tf.transpose(all_outputs.stack(), perm=[1,0,2])\n",
    "        return all_outputs"
   ]
  },
  {
   "cell_type": "markdown",
   "metadata": {
    "id": "FxrL-P8bMJH6"
   },
   "source": [
    "<font color='cyan'>**Grader function - 4**</font>"
   ]
  },
  {
   "cell_type": "code",
   "execution_count": 17,
   "metadata": {
    "id": "rtbx6onFMJXb"
   },
   "outputs": [
    {
     "name": "stdout",
     "output_type": "stream",
     "text": [
      "True\n",
      "True\n",
      "True\n"
     ]
    }
   ],
   "source": [
    "def grader_decoder(score_fun):\n",
    "    \n",
    "    '''\n",
    "        out_vocab_size: Unique words of the target language,\n",
    "        embedding_dim: output embedding dimension for each word after embedding layer,\n",
    "        dec_units: Number of lstm units in decoder,\n",
    "        att_units: Used in matrix multiplications for scoring functions in attention class,\n",
    "        input_length: Length of the target sentence,\n",
    "        batch_size\n",
    "        \n",
    "    \n",
    "    '''\n",
    "    \n",
    "    out_vocab_size=13 \n",
    "    embedding_dim=12 \n",
    "    input_length=11\n",
    "    dec_units=16 \n",
    "    att_units=16\n",
    "    batch_size=32\n",
    "    \n",
    "    target_sentences=tf.random.uniform(shape=(batch_size,input_length),maxval=10,minval=1,dtype=tf.int32)\n",
    "    encoder_output=tf.random.uniform(shape=[batch_size,input_length,dec_units])\n",
    "    state_h=tf.random.uniform(shape=[batch_size,dec_units])\n",
    "    state_c=tf.random.uniform(shape=[batch_size,dec_units])\n",
    "    \n",
    "    decoder=Decoder(out_vocab_size, embedding_dim, input_length, dec_units ,score_fun ,att_units,)\n",
    "    output=decoder(target_sentences,encoder_output, state_h, state_c)\n",
    "    assert(output.shape==(batch_size,input_length,out_vocab_size))\n",
    "    return True\n",
    "print(grader_decoder('dot'))\n",
    "print(grader_decoder('general'))\n",
    "print(grader_decoder('concat'))"
   ]
  },
  {
   "cell_type": "markdown",
   "metadata": {
    "id": "fC1T1EOoMTqC"
   },
   "source": [
    "<font color='blue'>**Encoder Decoder model**</font>"
   ]
  },
  {
   "cell_type": "code",
   "execution_count": 11,
   "metadata": {
    "id": "FfqBIe20MT3D"
   },
   "outputs": [],
   "source": [
    "class encoder_decoder(tf.keras.Model):\n",
    "    def __init__(self,enc_input_length,dec_input_length,batch_size,score_fun='dot'):\n",
    "        #Intialize objects from encoder decoder\n",
    "        super(encoder_decoder, self).__init__()\n",
    "        self.enc_input_length = enc_input_length\n",
    "        self.dec_input_length = dec_input_length\n",
    "        self.score_fun = score_fun\n",
    "        self.batch_size=batch_size\n",
    "        # initializing the layers\n",
    "        self.encoder = Encoder(inp_vocab_size=ita_vocab_size+1, embedding_size=50, lstm_size=128, input_length=self.enc_input_length)\n",
    "        self.decoder = Decoder(out_vocab_size=eng_vocab_size+1, embedding_dim=100, input_length=self.dec_input_length, dec_units=128,\n",
    "                               score_fun=self.score_fun, att_units=128)\n",
    "    @tf.function\n",
    "    def call(self,data):\n",
    "        # splitting the data into the italian and english\n",
    "        enc_inp, dec_inp = data[0], data[1]\n",
    "        #Intialize encoder states, Pass the encoder_sequence to the embedding layer\n",
    "        # initializing the encoder states\n",
    "        enc_init_states = self.encoder.initialize_states(self.batch_size)\n",
    "        # getting the encoder outputs\n",
    "        enc_out, enc_h, enc_c = self.encoder(enc_inp, enc_init_states)\n",
    "        # Decoder initial states are encoder final states, Initialize it accordingly\n",
    "        # Pass the decoder sequence,encoder_output,decoder states to Decoder\n",
    "        dec_out = self.decoder(dec_inp, enc_out, enc_h, enc_c)\n",
    "        # return the decoder output\n",
    "        return dec_out"
   ]
  },
  {
   "cell_type": "markdown",
   "metadata": {
    "id": "WVRxB-FDMJWL"
   },
   "source": [
    "<font color='blue'>**Custom loss function**</font>"
   ]
  },
  {
   "cell_type": "code",
   "execution_count": 12,
   "metadata": {
    "id": "QY_3izrXMs8y"
   },
   "outputs": [],
   "source": [
    "def custom_lossfunction(targets,logits):\n",
    "\n",
    "    # Custom loss function that will not consider the loss for padded zeros.\n",
    "    # Refer https://www.tensorflow.org/tutorials/text/nmt_with_attention#define_the_optimizer_and_the_loss_function\n",
    "    loss_object = tf.keras.losses.SparseCategoricalCrossentropy(from_logits=True, reduction='none')\n",
    "    mask = tf.math.logical_not(tf.math.equal(targets, 0))\n",
    "    loss_ = loss_object(targets, logits)\n",
    "    mask = tf.cast(mask, dtype=loss_.dtype)\n",
    "    loss_ *= mask\n",
    "    return tf.reduce_mean(loss_)\n"
   ]
  },
  {
   "cell_type": "code",
   "execution_count": 13,
   "metadata": {},
   "outputs": [],
   "source": [
    "# custom data generator\n",
    "class Dataset:\n",
    "    def __init__(self, data, tknizer_ita, tknizer_eng, max_len):\n",
    "        self.encoder_inps = data['italian'].values\n",
    "        self.decoder_inps = data['english_input'].values\n",
    "        self.decoder_outs = data['english_output'].values\n",
    "        self.tknizer_eng = tknizer_eng\n",
    "        self.tknizer_ita = tknizer_ita\n",
    "        self.max_len = max_len\n",
    "\n",
    "    def __getitem__(self, i):\n",
    "        self.encoder_seq = self.tknizer_ita.texts_to_sequences([self.encoder_inps[i]]) # need to pass list of values\n",
    "        self.decoder_inp_seq = self.tknizer_eng.texts_to_sequences([self.decoder_inps[i]])\n",
    "        self.decoder_out_seq = self.tknizer_eng.texts_to_sequences([self.decoder_outs[i]])\n",
    "\n",
    "        self.encoder_seq = pad_sequences(self.encoder_seq, maxlen=self.max_len, dtype='int32', padding='post')\n",
    "        self.decoder_inp_seq = pad_sequences(self.decoder_inp_seq, maxlen=self.max_len, dtype='int32', padding='post')\n",
    "        self.decoder_out_seq = pad_sequences(self.decoder_out_seq, maxlen=self.max_len, dtype='int32', padding='post')\n",
    "        return self.encoder_seq, self.decoder_inp_seq, self.decoder_out_seq\n",
    "\n",
    "    def __len__(self): # your model.fit_gen requires this function\n",
    "        return len(self.encoder_inps)\n",
    "\n",
    "    \n",
    "class Dataloder(tf.keras.utils.Sequence):    \n",
    "    def __init__(self, dataset, batch_size=1):\n",
    "        self.dataset = dataset\n",
    "        self.batch_size = batch_size\n",
    "        self.indexes = np.arange(len(self.dataset.encoder_inps))\n",
    "\n",
    "\n",
    "    def __getitem__(self, i):\n",
    "        start = i * self.batch_size\n",
    "        stop = (i + 1) * self.batch_size\n",
    "        data = []\n",
    "        for j in range(start, stop):\n",
    "            data.append(self.dataset[j])\n",
    "\n",
    "        batch = [np.squeeze(np.stack(samples, axis=1), axis=0) for samples in zip(*data)]\n",
    "        # we are creating data like ([italian, english_inp], english_out) these are already converted into seq\n",
    "        return tuple([[batch[0],batch[1]],batch[2]])\n",
    "\n",
    "    def __len__(self):  # your model.fit_gen requires this function\n",
    "        return len(self.indexes) // self.batch_size\n",
    "\n",
    "    def on_epoch_end(self):\n",
    "        self.indexes = np.random.permutation(self.indexes)"
   ]
  },
  {
   "cell_type": "markdown",
   "metadata": {
    "id": "2QlbWAqNNlqe"
   },
   "source": [
    "<font color='blue'>**Training**</font>"
   ]
  },
  {
   "cell_type": "markdown",
   "metadata": {
    "id": "wqtZUQF2NuZE"
   },
   "source": [
    "Implement dot function here."
   ]
  },
  {
   "cell_type": "code",
   "execution_count": 14,
   "metadata": {
    "id": "fgyWwZWeMxGQ"
   },
   "outputs": [],
   "source": [
    "# Implement teacher forcing while training your model. You can do it two ways.\n",
    "# Prepare your data, encoder_input,decoder_input and decoder_output\n",
    "# if decoder input is \n",
    "# <start> Hi how are you\n",
    "# decoder output should be\n",
    "# Hi How are you <end>\n",
    "# i.e when you have send <start>-- decoder predicted Hi, 'Hi' decoder predicted 'How' .. e.t.c\n",
    "\n",
    "# or\n",
    " \n",
    "# model.fit([train_ita,train_eng],train_eng[:,1:]..)\n",
    "# Note: If you follow this approach some grader functions might return false and this is fine."
   ]
  },
  {
   "cell_type": "code",
   "execution_count": 15,
   "metadata": {},
   "outputs": [],
   "source": [
    "# preparing the data for training\n",
    "# tokenizers for italian and english words\n",
    "# for italian\n",
    "tokenizer_ita = Tokenizer(oov_token=1)\n",
    "# fitting on italian training data\n",
    "tokenizer_ita.fit_on_texts(train['italian'])\n",
    "\n",
    "# for english\n",
    "tokenizer_eng = Tokenizer(filters='!\"#$%&()*+,-./:;=?@[\\\\]^_`{|}~\\t\\n') # we need to remove < and > because of the start and end tokens.\n",
    "\n",
    "# we will add the <end> token once more to the first row of the english sentences so that we can use a single tokenizer for\n",
    "# both the decoder inputs and outputs.\n",
    "train.iloc[0]['english_input'] = str(train.iloc[0]['english_input']) + ' <end>'\n",
    "train.iloc[0]['english_output'] = str(train.iloc[0]['english_output']) + ' <end>'\n",
    "\n",
    "# now, we can fit the english tokenizer on just the inputs and use it for both inputs and outputs\n",
    "tokenizer_eng.fit_on_texts(train['english_input'])"
   ]
  },
  {
   "cell_type": "code",
   "execution_count": 16,
   "metadata": {
    "scrolled": true
   },
   "outputs": [
    {
     "name": "stdout",
     "output_type": "stream",
     "text": [
      "1 10147\n"
     ]
    }
   ],
   "source": [
    "print(tokenizer_eng.word_index['<start>'], tokenizer_eng.word_index['<end>'])"
   ]
  },
  {
   "cell_type": "code",
   "execution_count": 17,
   "metadata": {},
   "outputs": [
    {
     "name": "stdout",
     "output_type": "stream",
     "text": [
      "Vocabulary size for Italian: 26254\n",
      "Vocabulary size for English: 12859\n"
     ]
    }
   ],
   "source": [
    "# lets see the number of words in the english and italian vocabulary\n",
    "ita_vocab_size = len(tokenizer_ita.word_index)\n",
    "print('Vocabulary size for Italian:', ita_vocab_size)\n",
    "eng_vocab_size = len(tokenizer_eng.word_index)\n",
    "print('Vocabulary size for English:', eng_vocab_size)"
   ]
  },
  {
   "cell_type": "code",
   "execution_count": 18,
   "metadata": {},
   "outputs": [
    {
     "name": "stdout",
     "output_type": "stream",
     "text": [
      "(256, 20) (256, 20) (256, 20)\n"
     ]
    }
   ],
   "source": [
    "# making the train and testing datasets\n",
    "train_dataset = Dataset(train, tokenizer_ita, tokenizer_eng, 20)\n",
    "test_dataset  = Dataset(validation, tokenizer_ita, tokenizer_eng, 20)\n",
    "\n",
    "train_dataloader = Dataloder(train_dataset, batch_size=256)\n",
    "test_dataloader = Dataloder(test_dataset, batch_size=256)\n",
    "\n",
    "print(train_dataloader[0][0][0].shape, train_dataloader[0][0][1].shape, train_dataloader[0][1].shape)"
   ]
  },
  {
   "cell_type": "code",
   "execution_count": 19,
   "metadata": {},
   "outputs": [
    {
     "data": {
      "text/plain": [
       "(1077, 269)"
      ]
     },
     "execution_count": 19,
     "metadata": {},
     "output_type": "execute_result"
    }
   ],
   "source": [
    "train_steps=train.shape[0]//256\n",
    "valid_steps=validation.shape[0]//256\n",
    "train_steps, valid_steps"
   ]
  },
  {
   "cell_type": "markdown",
   "metadata": {},
   "source": [
    "#### Fitting the model"
   ]
  },
  {
   "cell_type": "code",
   "execution_count": 239,
   "metadata": {
    "scrolled": false
   },
   "outputs": [],
   "source": [
    "# tensorboard callback\n",
    "from tensorflow.keras.callbacks import TensorBoard\n",
    "\n",
    "# tensorboard\n",
    "logdir = 'Attention Logs\\\\Dot'\n",
    "tensorboard = TensorBoard(log_dir=logdir, histogram_freq=1, write_graph=True,  profile_batch = 100000000)\n",
    "\n",
    "callbacks = [tensorboard]"
   ]
  },
  {
   "cell_type": "code",
   "execution_count": 240,
   "metadata": {},
   "outputs": [],
   "source": [
    "tf.keras.backend.clear_session()\n",
    "# create a model object\n",
    "attention_model = encoder_decoder(enc_input_length=20, dec_input_length=20, batch_size=256, score_fun='dot')\n",
    "# compiling the model\n",
    "attention_model.compile(optimizer='adam', loss=custom_lossfunction)"
   ]
  },
  {
   "cell_type": "code",
   "execution_count": 241,
   "metadata": {
    "scrolled": true
   },
   "outputs": [
    {
     "name": "stdout",
     "output_type": "stream",
     "text": [
      "Train for 1077 steps\n",
      "Epoch 1/40\n",
      "1077/1077 [==============================] - 189s 176ms/step - loss: 1.6386\n",
      "Epoch 2/40\n",
      "1077/1077 [==============================] - 183s 170ms/step - loss: 1.1412\n",
      "Epoch 3/40\n",
      "1077/1077 [==============================] - 184s 170ms/step - loss: 0.8602\n",
      "Epoch 4/40\n",
      "1077/1077 [==============================] - 184s 170ms/step - loss: 0.6542\n",
      "Epoch 5/40\n",
      "1077/1077 [==============================] - 184s 171ms/step - loss: 0.5074\n",
      "Epoch 6/40\n",
      "1077/1077 [==============================] - 183s 170ms/step - loss: 0.4067\n",
      "Epoch 7/40\n",
      "1077/1077 [==============================] - 181s 168ms/step - loss: 0.3357\n",
      "Epoch 8/40\n",
      "1077/1077 [==============================] - 181s 168ms/step - loss: 0.2840\n",
      "Epoch 9/40\n",
      "1077/1077 [==============================] - 185s 171ms/step - loss: 0.2452\n",
      "Epoch 10/40\n",
      "1077/1077 [==============================] - 185s 172ms/step - loss: 0.2157\n",
      "Epoch 11/40\n",
      "1077/1077 [==============================] - 183s 170ms/step - loss: 0.1925\n",
      "Epoch 12/40\n",
      "1077/1077 [==============================] - 184s 171ms/step - loss: 0.1738\n",
      "Epoch 13/40\n",
      "1077/1077 [==============================] - 184s 171ms/step - loss: 0.1587\n",
      "Epoch 14/40\n",
      "1077/1077 [==============================] - 183s 170ms/step - loss: 0.1459\n",
      "Epoch 15/40\n",
      "1077/1077 [==============================] - 181s 168ms/step - loss: 0.1353\n",
      "Epoch 16/40\n",
      "1077/1077 [==============================] - 182s 169ms/step - loss: 0.1260\n",
      "Epoch 17/40\n",
      "1077/1077 [==============================] - 184s 171ms/step - loss: 0.1177\n",
      "Epoch 18/40\n",
      "1077/1077 [==============================] - 183s 170ms/step - loss: 0.1108\n",
      "Epoch 19/40\n",
      "1077/1077 [==============================] - 183s 170ms/step - loss: 0.1049\n",
      "Epoch 20/40\n",
      "1077/1077 [==============================] - 183s 170ms/step - loss: 0.0992\n",
      "Epoch 21/40\n",
      "1077/1077 [==============================] - 183s 170ms/step - loss: 0.0944\n",
      "Epoch 22/40\n",
      "1077/1077 [==============================] - 183s 170ms/step - loss: 0.0897\n",
      "Epoch 23/40\n",
      "1077/1077 [==============================] - 183s 170ms/step - loss: 0.0855\n",
      "Epoch 24/40\n",
      "1077/1077 [==============================] - 184s 171ms/step - loss: 0.0818\n",
      "Epoch 25/40\n",
      "1077/1077 [==============================] - 183s 170ms/step - loss: 0.0784\n",
      "Epoch 26/40\n",
      "1077/1077 [==============================] - 183s 170ms/step - loss: 0.0754\n",
      "Epoch 27/40\n",
      "1077/1077 [==============================] - 182s 169ms/step - loss: 0.0724\n",
      "Epoch 28/40\n",
      "1077/1077 [==============================] - 181s 168ms/step - loss: 0.0696\n",
      "Epoch 29/40\n",
      "1077/1077 [==============================] - 182s 169ms/step - loss: 0.0672\n",
      "Epoch 30/40\n",
      "1077/1077 [==============================] - 183s 170ms/step - loss: 0.0652\n",
      "Epoch 31/40\n",
      "1077/1077 [==============================] - 183s 170ms/step - loss: 0.0626\n",
      "Epoch 32/40\n",
      "1077/1077 [==============================] - 183s 170ms/step - loss: 0.0605\n",
      "Epoch 33/40\n",
      "1077/1077 [==============================] - 181s 168ms/step - loss: 0.0592\n",
      "Epoch 34/40\n",
      "1077/1077 [==============================] - 181s 168ms/step - loss: 0.0568\n",
      "Epoch 35/40\n",
      "1077/1077 [==============================] - 183s 170ms/step - loss: 0.0549\n",
      "Epoch 36/40\n",
      "1077/1077 [==============================] - 184s 171ms/step - loss: 0.0537\n",
      "Epoch 37/40\n",
      "1077/1077 [==============================] - 183s 170ms/step - loss: 0.0519\n",
      "Epoch 38/40\n",
      "1077/1077 [==============================] - 183s 170ms/step - loss: 0.0505\n",
      "Epoch 39/40\n",
      "1077/1077 [==============================] - 183s 170ms/step - loss: 0.0488\n",
      "Epoch 40/40\n",
      "1077/1077 [==============================] - 184s 171ms/step - loss: 0.0479\n"
     ]
    },
    {
     "data": {
      "text/plain": [
       "<tensorflow.python.keras.callbacks.History at 0x162d2f4d9c8>"
      ]
     },
     "execution_count": 241,
     "metadata": {},
     "output_type": "execute_result"
    }
   ],
   "source": [
    "# fitting the model - USING train data itself as the validation set\n",
    "attention_model.fit(train_dataloader, steps_per_epoch=train_steps, verbose=1,\n",
    "                    epochs=40, callbacks=callbacks)"
   ]
  },
  {
   "cell_type": "markdown",
   "metadata": {},
   "source": [
    "__Training Tensorboard Plot:__"
   ]
  },
  {
   "cell_type": "code",
   "execution_count": 38,
   "metadata": {},
   "outputs": [
    {
     "data": {
      "image/jpeg": "[encoded data removed]",
      "text/plain": [
       "<IPython.core.display.Image object>"
      ]
     },
     "execution_count": 38,
     "metadata": {},
     "output_type": "execute_result"
    }
   ],
   "source": [
    "from IPython.display import Image\n",
    "Image('Tensorboard Plots\\\\General.jpg')"
   ]
  },
  {
   "cell_type": "code",
   "execution_count": 242,
   "metadata": {
    "scrolled": true
   },
   "outputs": [
    {
     "name": "stdout",
     "output_type": "stream",
     "text": [
      "Model: \"encoder_decoder\"\n",
      "_________________________________________________________________\n",
      "Layer (type)                 Output Shape              Param #   \n",
      "=================================================================\n",
      "encoder (Encoder)            multiple                  1404448   \n",
      "_________________________________________________________________\n",
      "decoder (Decoder)            multiple                  3127824   \n",
      "=================================================================\n",
      "Total params: 4,532,272\n",
      "Trainable params: 4,532,272\n",
      "Non-trainable params: 0\n",
      "_________________________________________________________________\n"
     ]
    }
   ],
   "source": [
    "attention_model.summary()"
   ]
  },
  {
   "cell_type": "code",
   "execution_count": 243,
   "metadata": {},
   "outputs": [],
   "source": [
    "# saving\n",
    "attention_model.save_weights('New Saves\\\\DotAttentionModel.h5')"
   ]
  },
  {
   "cell_type": "markdown",
   "metadata": {
    "id": "6DpC9zlzMcXp"
   },
   "source": [
    "## <font color='blue'>**Inference**</font>"
   ]
  },
  {
   "cell_type": "markdown",
   "metadata": {
    "id": "Z5NhESYyMW_t"
   },
   "source": [
    "<font color='blue'>**Plot attention weights**</font>"
   ]
  },
  {
   "cell_type": "code",
   "execution_count": 24,
   "metadata": {
    "id": "pkEY7SsBMtrC"
   },
   "outputs": [],
   "source": [
    "import seaborn as sns\n",
    "def plot_attention(att_wts, original_sentence, predicted_sentence):\n",
    "    # Refer: https://www.tensorflow.org/tutorials/text/nmt_with_attention#translate\n",
    "    fig, ax = plt.subplots(figsize=(10,10))\n",
    "    # reshaping the weight matrix from 3-D to 2-D\n",
    "    att_wts = att_wts.reshape(att_wts.shape[0], att_wts.shape[2])\n",
    "    # plotting the heatmap of the weights\n",
    "    sns.heatmap(att_wts, ax=ax, linewidths=0.01)\n",
    "    ax.set_yticklabels(predicted_sentence.split(), rotation=360)\n",
    "    ax.set_xticklabels(original_sentence.split())\n",
    "    ax.set_xlabel('Italian Sentence')\n",
    "    ax.set_ylabel('English Translation')\n",
    "    ax.set_title('Attention Plot.')\n",
    "    plt.show()"
   ]
  },
  {
   "cell_type": "markdown",
   "metadata": {
    "id": "e1IhdBrgQYJr"
   },
   "source": [
    "<font color='blue'>**Predict the sentence translation**</font>"
   ]
  },
  {
   "cell_type": "code",
   "execution_count": 25,
   "metadata": {},
   "outputs": [],
   "source": [
    "# dictionary for converting the output tokens to english words.\n",
    "eng_tokens_to_text = {v:k for k,v in tokenizer_eng.word_index.items()}"
   ]
  },
  {
   "cell_type": "code",
   "execution_count": 26,
   "metadata": {
    "id": "MP3kLZoPMvSu"
   },
   "outputs": [],
   "source": [
    "def predict(input_sentence, attention_model, plot_attention_wts=False):\n",
    "\n",
    "    '''\n",
    "    A. Given input sentence, convert the sentence into integers using tokenizer used earlier\n",
    "    B. Pass the input_sequence to encoder. we get encoder_outputs, last time step hidden and cell state\n",
    "    C. Initialize index of <start> as input to decoder. and encoder final states as input_states to onestepdecoder.\n",
    "    D. till we reach max_length of decoder or till the model predicted word <end>:\n",
    "         predictions, input_states, attention_weights = model.layers[1].onestepdecoder(input_to_decoder, encoder_output, input_states)\n",
    "         Save the attention weights\n",
    "         And get the word using the tokenizer(word index) and then store it in a string.\n",
    "    E. Call plot_attention(#params)\n",
    "    F. Return the predicted sentence\n",
    "    '''\n",
    "    # converting italian words to tokens\n",
    "    input_tokens = np.asarray(tokenizer_ita.texts_to_sequences([input_sentence]))\n",
    "    \n",
    "    ### GETTING OUTPUTS FROM THE ENCODER ###\n",
    "    # passing the tokens to the encoder\n",
    "    encoder = attention_model.layers[0]\n",
    "    # initializing the encoder states\n",
    "    enc_st = encoder.initialize_states(batch_size=1)\n",
    "    enc_out, state_h, state_c = encoder(input_tokens, enc_st)\n",
    "    # preparing the decoder sequence - setting the input as <start>\n",
    "    dec_in = '<start>'\n",
    "    output = [] # for storing the output translated sentenct\n",
    "    dec_in = np.asarray(tokenizer_eng.texts_to_sequences([dec_in]))\n",
    "    attention_weights = [] # list for storing the attention vectors from each timestep\n",
    "    \n",
    "    ### ONE STEP DECODER ###\n",
    "    osd = attention_model.layers[1].layers[0] # the one step decoder object\n",
    "    \n",
    "    ### LOOPING AND TRANSLATING ###\n",
    "    iteration = 0 # counter to keep track of number of iterations\n",
    "    while True:\n",
    "        out, state_h, state_c, att_wt, cont_vect = osd(dec_in, enc_out, state_h, state_c)\n",
    "        # reshaping att_wt\n",
    "        att_wt = np.reshape(att_wt, newshape=(att_wt.shape[0], att_wt.shape[1]))\n",
    "        # appending to the list\n",
    "        attention_weights.append(att_wt)\n",
    "\n",
    "        ###  GETTING THE PREDICTED WORD, UPDATING THE VARIABLES AND TERMINATION CHECKS\n",
    "        max_ind = np.argmax(out) # the index of maximum output value\n",
    "        # getting the word\n",
    "        wrd = eng_tokens_to_text[max_ind]\n",
    "        output.append(wrd) # appending the word to the output list\n",
    "        # getting its corresponding token\n",
    "        dec_in = np.asarray(tokenizer_eng.texts_to_sequences([wrd]))\n",
    "\n",
    "        ### TERMINATION CHECKS ###\n",
    "        iteration += 1\n",
    "        if iteration==20:\n",
    "            final_sent = \" \".join(output)\n",
    "            break\n",
    "        if wrd=='<end>': # this is surprising, the model is predicting combat instead of <end>\n",
    "            final_sent = \" \".join(output[:-1])\n",
    "            break\n",
    "    \n",
    "    if plot_attention_wts==True:\n",
    "        attention_weights = np.array(attention_weights[:-1])\n",
    "        # plotting the attention matrix\n",
    "        plot_attention(attention_weights, input_sentence, final_sent)\n",
    "        \n",
    "    return final_sent"
   ]
  },
  {
   "cell_type": "markdown",
   "metadata": {},
   "source": [
    "#### Testing a few datapoints by plotting their attention plots."
   ]
  },
  {
   "cell_type": "code",
   "execution_count": 247,
   "metadata": {
    "scrolled": false
   },
   "outputs": [
    {
     "data": {
      "image/png": "[encoded data removed]",
      "text/plain": [
       "<Figure size 720x720 with 2 Axes>"
      ]
     },
     "metadata": {
      "needs_background": "light"
     },
     "output_type": "display_data"
    },
    {
     "data": {
      "text/plain": [
       "'i dare you to call tom a sissy'"
      ]
     },
     "execution_count": 247,
     "metadata": {},
     "output_type": "execute_result"
    }
   ],
   "source": [
    "# EXAMPLE 1\n",
    "# getting the translation\n",
    "sent_ind = 2248\n",
    "sent = predict(validation['italian'].iloc[sent_ind], attention_model=attention_model, plot_attention_wts=True)\n",
    "sent"
   ]
  },
  {
   "cell_type": "code",
   "execution_count": 248,
   "metadata": {},
   "outputs": [
    {
     "data": {
      "text/plain": [
       "('i dare you to call tom a sissy <end>',\n",
       " 'ti sfido a dare della femminuccia a tom')"
      ]
     },
     "execution_count": 248,
     "metadata": {},
     "output_type": "execute_result"
    }
   ],
   "source": [
    "# the real sentences\n",
    "validation.iloc[sent_ind]['english_output'], validation.iloc[sent_ind]['italian']"
   ]
  },
  {
   "cell_type": "code",
   "execution_count": 249,
   "metadata": {
    "scrolled": false
   },
   "outputs": [
    {
     "data": {
      "image/png": "[encoded data removed]",
      "text/plain": [
       "<Figure size 720x720 with 2 Axes>"
      ]
     },
     "metadata": {
      "needs_background": "light"
     },
     "output_type": "display_data"
    },
    {
     "data": {
      "text/plain": [
       "'can you please help me put price tags on everything'"
      ]
     },
     "execution_count": 249,
     "metadata": {},
     "output_type": "execute_result"
    }
   ],
   "source": [
    "# EXAMPLE 2\n",
    "sent_ind = 44\n",
    "sent = predict(validation['italian'].iloc[sent_ind], attention_model=attention_model, plot_attention_wts=True)\n",
    "sent"
   ]
  },
  {
   "cell_type": "code",
   "execution_count": 250,
   "metadata": {},
   "outputs": [
    {
     "data": {
      "text/plain": [
       "('can you please help me put price tags on everything <end>',\n",
       " 'per favore mi puoi aiutare a mettere dei cartellini dei prezzi su tutto')"
      ]
     },
     "execution_count": 250,
     "metadata": {},
     "output_type": "execute_result"
    }
   ],
   "source": [
    "# the real sentences\n",
    "validation.iloc[sent_ind]['english_output'], validation.iloc[sent_ind]['italian']"
   ]
  },
  {
   "cell_type": "code",
   "execution_count": 251,
   "metadata": {},
   "outputs": [
    {
     "data": {
      "image/png": "[encoded data removed]",
      "text/plain": [
       "<Figure size 720x720 with 2 Axes>"
      ]
     },
     "metadata": {
      "needs_background": "light"
     },
     "output_type": "display_data"
    },
    {
     "data": {
      "text/plain": [
       "'tom was not worried that what might happen'"
      ]
     },
     "execution_count": 251,
     "metadata": {},
     "output_type": "execute_result"
    }
   ],
   "source": [
    "# EXAMPLE 3\n",
    "sent_ind = 3985\n",
    "sent = predict(validation['italian'].iloc[sent_ind], attention_model=attention_model, plot_attention_wts=True)\n",
    "sent"
   ]
  },
  {
   "cell_type": "code",
   "execution_count": 252,
   "metadata": {},
   "outputs": [
    {
     "data": {
      "text/plain": [
       "('tom was not worried about what might happen <end>',\n",
       " 'tom non era preoccupato per quello che potrebbe succedere')"
      ]
     },
     "execution_count": 252,
     "metadata": {},
     "output_type": "execute_result"
    }
   ],
   "source": [
    "# the real sentences\n",
    "validation.iloc[sent_ind]['english_output'], validation.iloc[sent_ind]['italian']"
   ]
  },
  {
   "cell_type": "code",
   "execution_count": 262,
   "metadata": {},
   "outputs": [
    {
     "data": {
      "image/png": "[encoded data removed]",
      "text/plain": [
       "<Figure size 720x720 with 2 Axes>"
      ]
     },
     "metadata": {
      "needs_background": "light"
     },
     "output_type": "display_data"
    },
    {
     "data": {
      "text/plain": [
       "'this shirt is too small for me to wear'"
      ]
     },
     "execution_count": 262,
     "metadata": {},
     "output_type": "execute_result"
    }
   ],
   "source": [
    "# EXAMPLE 3\n",
    "sent_ind = 444\n",
    "sent = predict(validation['italian'].iloc[sent_ind], attention_model=attention_model, plot_attention_wts=True)\n",
    "sent"
   ]
  },
  {
   "cell_type": "code",
   "execution_count": 261,
   "metadata": {},
   "outputs": [
    {
     "data": {
      "text/plain": [
       "('i need a soldering iron <end>', 'ho bisogno di un saldatore')"
      ]
     },
     "execution_count": 261,
     "metadata": {},
     "output_type": "execute_result"
    }
   ],
   "source": [
    "# the real sentences\n",
    "validation.iloc[sent_ind]['english_output'], validation.iloc[sent_ind]['italian']"
   ]
  },
  {
   "cell_type": "markdown",
   "metadata": {
    "id": "jmxIVOOQPWMu"
   },
   "source": [
    "<font color='blue'>**Calculate BLEU score**</font>"
   ]
  },
  {
   "cell_type": "code",
   "execution_count": null,
   "metadata": {
    "id": "0iHiLdROM23l"
   },
   "outputs": [],
   "source": [
    "#Create an object of your custom model.\n",
    "#Compile and train your model on dot scoring function.\n",
    "# Visualize few sentences randomly in Test data\n",
    "# Predict on 1000 random sentences on test data and calculate the average BLEU score of these sentences.\n",
    "# https://www.nltk.org/_modules/nltk/translate/bleu_score.html\n",
    "\n",
    "#Sample example\n",
    "import nltk.translate.bleu_score as bleu\n",
    "reference = ['i am groot'.split(),] # the original\n",
    "translation = 'it is ship'.split() # trasilated using model\n",
    "print('BLEU score: {}'.format(bleu.sentence_bleu(reference, translation)))"
   ]
  },
  {
   "cell_type": "code",
   "execution_count": 36,
   "metadata": {},
   "outputs": [],
   "source": [
    "import nltk.translate.bleu_score as bleu"
   ]
  },
  {
   "cell_type": "code",
   "execution_count": 32,
   "metadata": {},
   "outputs": [
    {
     "name": "stdout",
     "output_type": "stream",
     "text": [
      "(1000, 3)\n"
     ]
    },
    {
     "data": {
      "text/html": [
       "<div>\n",
       "<style scoped>\n",
       "    .dataframe tbody tr th:only-of-type {\n",
       "        vertical-align: middle;\n",
       "    }\n",
       "\n",
       "    .dataframe tbody tr th {\n",
       "        vertical-align: top;\n",
       "    }\n",
       "\n",
       "    .dataframe thead th {\n",
       "        text-align: right;\n",
       "    }\n",
       "</style>\n",
       "<table border=\"1\" class=\"dataframe\">\n",
       "  <thead>\n",
       "    <tr style=\"text-align: right;\">\n",
       "      <th></th>\n",
       "      <th>italian</th>\n",
       "      <th>english_input</th>\n",
       "      <th>english_output</th>\n",
       "    </tr>\n",
       "  </thead>\n",
       "  <tbody>\n",
       "    <tr>\n",
       "      <th>164120</th>\n",
       "      <td>io spero che le cose cambieranno</td>\n",
       "      <td>&lt;start&gt; i hope things will change</td>\n",
       "      <td>i hope things will change &lt;end&gt;</td>\n",
       "    </tr>\n",
       "    <tr>\n",
       "      <th>288665</th>\n",
       "      <td>non lo so perché non chiede a tom</td>\n",
       "      <td>&lt;start&gt; i do not know why do not you ask tom</td>\n",
       "      <td>i do not know why do not you ask tom &lt;end&gt;</td>\n",
       "    </tr>\n",
       "    <tr>\n",
       "      <th>210230</th>\n",
       "      <td>io non ho niente da dirti</td>\n",
       "      <td>&lt;start&gt; i have nothing to say to you</td>\n",
       "      <td>i have nothing to say to you &lt;end&gt;</td>\n",
       "    </tr>\n",
       "    <tr>\n",
       "      <th>282360</th>\n",
       "      <td>si dice che lui conosca il segreto</td>\n",
       "      <td>&lt;start&gt; it is said that he knows the secret</td>\n",
       "      <td>it is said that he knows the secret &lt;end&gt;</td>\n",
       "    </tr>\n",
       "    <tr>\n",
       "      <th>94585</th>\n",
       "      <td>a tom non è mai piaciuta mary</td>\n",
       "      <td>&lt;start&gt; tom never liked mary</td>\n",
       "      <td>tom never liked mary &lt;end&gt;</td>\n",
       "    </tr>\n",
       "  </tbody>\n",
       "</table>\n",
       "</div>"
      ],
      "text/plain": [
       "                                   italian  \\\n",
       "164120    io spero che le cose cambieranno   \n",
       "288665   non lo so perché non chiede a tom   \n",
       "210230           io non ho niente da dirti   \n",
       "282360  si dice che lui conosca il segreto   \n",
       "94585        a tom non è mai piaciuta mary   \n",
       "\n",
       "                                       english_input  \\\n",
       "164120             <start> i hope things will change   \n",
       "288665  <start> i do not know why do not you ask tom   \n",
       "210230          <start> i have nothing to say to you   \n",
       "282360   <start> it is said that he knows the secret   \n",
       "94585                   <start> tom never liked mary   \n",
       "\n",
       "                                    english_output  \n",
       "164120             i hope things will change <end>  \n",
       "288665  i do not know why do not you ask tom <end>  \n",
       "210230          i have nothing to say to you <end>  \n",
       "282360   it is said that he knows the secret <end>  \n",
       "94585                   tom never liked mary <end>  "
      ]
     },
     "execution_count": 32,
     "metadata": {},
     "output_type": "execute_result"
    }
   ],
   "source": [
    "# sampling 1000 sentences from the testing set at random\n",
    "sample = validation.sample(n=1000, random_state=0)\n",
    "print(sample.shape)\n",
    "sample.head()"
   ]
  },
  {
   "cell_type": "code",
   "execution_count": 33,
   "metadata": {},
   "outputs": [
    {
     "name": "stderr",
     "output_type": "stream",
     "text": [
      "100%|██████████████████████████████████████████████████████████████████████████████| 1000/1000 [01:39<00:00, 10.00it/s]\n"
     ]
    }
   ],
   "source": [
    "# translating all the sentences from the sample\n",
    "translations = []\n",
    "for sent in tqdm(sample['italian']):\n",
    "    # translating\n",
    "    trans_ = predict(sent, attention_model)\n",
    "    # appending to the list\n",
    "    translations.append(trans_)"
   ]
  },
  {
   "cell_type": "code",
   "execution_count": 34,
   "metadata": {},
   "outputs": [
    {
     "name": "stdout",
     "output_type": "stream",
     "text": [
      "Original Italian sentence: io spero che le cose cambieranno\n",
      "Actual English Translation: i hope things will change <end>\n",
      "Translation done by the model: i hope things are all going to change\n",
      "----------------------------------------------------------------------------------------------------\n",
      "Original Italian sentence: non lo so perché non chiede a tom\n",
      "Actual English Translation: i do not know why do not you ask tom <end>\n",
      "Translation done by the model: i do not know why you do not know tom\n",
      "----------------------------------------------------------------------------------------------------\n",
      "Original Italian sentence: io non ho niente da dirti\n",
      "Actual English Translation: i have nothing to say to you <end>\n",
      "Translation done by the model: i have got nothing to tell you\n",
      "----------------------------------------------------------------------------------------------------\n",
      "Original Italian sentence: si dice che lui conosca il segreto\n",
      "Actual English Translation: it is said that he knows the secret <end>\n",
      "Translation done by the model: it is said that he knows the secret\n",
      "----------------------------------------------------------------------------------------------------\n",
      "Original Italian sentence: a tom non è mai piaciuta mary\n",
      "Actual English Translation: tom never liked mary <end>\n",
      "Translation done by the model: tom never liked mary\n",
      "----------------------------------------------------------------------------------------------------\n"
     ]
    }
   ],
   "source": [
    "# printing a few translations\n",
    "for i in range(5):\n",
    "    print('Original Italian sentence:', sample.iloc[i]['italian'])\n",
    "    print('Actual English Translation:', sample.iloc[i]['english_output'])\n",
    "    print('Translation done by the model:', translations[i])\n",
    "    print('-'*100)"
   ]
  },
  {
   "cell_type": "code",
   "execution_count": 39,
   "metadata": {
    "scrolled": false
   },
   "outputs": [
    {
     "name": "stdout",
     "output_type": "stream",
     "text": [
      "Aerage bleu score: 0.37834063750642793\n"
     ]
    },
    {
     "name": "stderr",
     "output_type": "stream",
     "text": [
      "C:\\Anaconda\\envs\\DeepLearning\\lib\\site-packages\\nltk\\translate\\bleu_score.py:516: UserWarning: \n",
      "The hypothesis contains 0 counts of 4-gram overlaps.\n",
      "Therefore the BLEU score evaluates to 0, independently of\n",
      "how many N-gram overlaps of lower order it contains.\n",
      "Consider using lower n-gram order or use SmoothingFunction()\n",
      "  warnings.warn(_msg)\n",
      "C:\\Anaconda\\envs\\DeepLearning\\lib\\site-packages\\nltk\\translate\\bleu_score.py:516: UserWarning: \n",
      "The hypothesis contains 0 counts of 3-gram overlaps.\n",
      "Therefore the BLEU score evaluates to 0, independently of\n",
      "how many N-gram overlaps of lower order it contains.\n",
      "Consider using lower n-gram order or use SmoothingFunction()\n",
      "  warnings.warn(_msg)\n",
      "C:\\Anaconda\\envs\\DeepLearning\\lib\\site-packages\\nltk\\translate\\bleu_score.py:516: UserWarning: \n",
      "The hypothesis contains 0 counts of 2-gram overlaps.\n",
      "Therefore the BLEU score evaluates to 0, independently of\n",
      "how many N-gram overlaps of lower order it contains.\n",
      "Consider using lower n-gram order or use SmoothingFunction()\n",
      "  warnings.warn(_msg)\n"
     ]
    }
   ],
   "source": [
    "# calculating bleu score for each sentence\n",
    "bleu_scores = [bleu.sentence_bleu([sample['english_output'].iloc[i].split()[:-1]], translations[i].split()[:-1]) for i in range(1000)]\n",
    "\n",
    "# calculating the average bleu score\n",
    "print(\"Aerage bleu score:\", sum(bleu_scores)/len(bleu_scores))"
   ]
  },
  {
   "cell_type": "markdown",
   "metadata": {
    "id": "SWg2ferDQvT3"
   },
   "source": [
    "<font color='blue'>**Repeat the same steps for General scoring function**</font>"
   ]
  },
  {
   "cell_type": "code",
   "execution_count": 26,
   "metadata": {
    "id": "4Rh9_w79M5JO"
   },
   "outputs": [],
   "source": [
    "#Compile and train your model on general scoring function.\n",
    "# Visualize few sentences randomly in Test data\n",
    "# Predict on 1000 random sentences on test data and calculate the average BLEU score of these sentences.\n",
    "# https://www.nltk.org/_modules/nltk/translate/bleu_score.html"
   ]
  },
  {
   "cell_type": "code",
   "execution_count": 25,
   "metadata": {},
   "outputs": [],
   "source": [
    "# tensorboard callback\n",
    "from tensorflow.keras.callbacks import TensorBoard\n",
    "\n",
    "# tensorboard\n",
    "logdir = 'Attention Logs\\\\General'\n",
    "tensorboard = TensorBoard(log_dir=logdir, histogram_freq=1, write_graph=True,  profile_batch = 100000000)\n",
    "\n",
    "callbacks = [tensorboard]"
   ]
  },
  {
   "cell_type": "code",
   "execution_count": 28,
   "metadata": {},
   "outputs": [],
   "source": [
    "tf.keras.backend.clear_session()\n",
    "# create a model object\n",
    "attention_model2 = encoder_decoder(enc_input_length=20, dec_input_length=20, batch_size=256, score_fun='general')\n",
    "# compiling the model\n",
    "attention_model2.compile(optimizer='adam', loss=custom_lossfunction)"
   ]
  },
  {
   "cell_type": "code",
   "execution_count": 32,
   "metadata": {
    "scrolled": true
   },
   "outputs": [
    {
     "name": "stdout",
     "output_type": "stream",
     "text": [
      "Train for 1077 steps\n",
      "Epoch 1/40\n",
      "1077/1077 [==============================] - 190s 176ms/step - loss: 1.6723\n",
      "Epoch 2/40\n",
      "1077/1077 [==============================] - 185s 172ms/step - loss: 1.1953\n",
      "Epoch 3/40\n",
      "1077/1077 [==============================] - 186s 172ms/step - loss: 0.8912\n",
      "Epoch 4/40\n",
      "1077/1077 [==============================] - 193s 179ms/step - loss: 0.6692\n",
      "Epoch 5/40\n",
      "1077/1077 [==============================] - 186s 173ms/step - loss: 0.5132\n",
      "Epoch 6/40\n",
      "1077/1077 [==============================] - 186s 173ms/step - loss: 0.4066\n",
      "Epoch 7/40\n",
      "1077/1077 [==============================] - 186s 173ms/step - loss: 0.3333\n",
      "Epoch 8/40\n",
      "1077/1077 [==============================] - 186s 173ms/step - loss: 0.2802\n",
      "Epoch 9/40\n",
      "1077/1077 [==============================] - 185s 172ms/step - loss: 0.2434\n",
      "Epoch 10/40\n",
      "1077/1077 [==============================] - 186s 172ms/step - loss: 0.2127\n",
      "Epoch 11/40\n",
      "1077/1077 [==============================] - 185s 172ms/step - loss: 0.1902\n",
      "Epoch 12/40\n",
      "1077/1077 [==============================] - 186s 172ms/step - loss: 0.1724\n",
      "Epoch 13/40\n",
      "1077/1077 [==============================] - 185s 172ms/step - loss: 0.1578\n",
      "Epoch 14/40\n",
      "1077/1077 [==============================] - 185s 172ms/step - loss: 0.1459\n",
      "Epoch 15/40\n",
      "1077/1077 [==============================] - 183s 170ms/step - loss: 0.1353\n",
      "Epoch 16/40\n",
      "1077/1077 [==============================] - 183s 170ms/step - loss: 0.1266\n",
      "Epoch 17/40\n",
      "1077/1077 [==============================] - 183s 170ms/step - loss: 0.1189\n",
      "Epoch 18/40\n",
      "1077/1077 [==============================] - 183s 170ms/step - loss: 0.1119\n",
      "Epoch 19/40\n",
      "1077/1077 [==============================] - 183s 170ms/step - loss: 0.1068\n",
      "Epoch 20/40\n",
      "1077/1077 [==============================] - 183s 170ms/step - loss: 0.1008\n",
      "Epoch 21/40\n",
      "1077/1077 [==============================] - 183s 170ms/step - loss: 0.0964\n",
      "Epoch 22/40\n",
      "1077/1077 [==============================] - 189s 176ms/step - loss: 0.0916\n",
      "Epoch 23/40\n",
      "1077/1077 [==============================] - 183s 170ms/step - loss: 0.0878\n",
      "Epoch 24/40\n",
      "1077/1077 [==============================] - 183s 170ms/step - loss: 0.0841\n",
      "Epoch 25/40\n",
      "1077/1077 [==============================] - 183s 170ms/step - loss: 0.0807\n",
      "Epoch 26/40\n",
      "1077/1077 [==============================] - 185s 172ms/step - loss: 0.0783\n",
      "Epoch 27/40\n",
      "1077/1077 [==============================] - 185s 172ms/step - loss: 0.0749\n",
      "Epoch 28/40\n",
      "1077/1077 [==============================] - 186s 172ms/step - loss: 0.0723\n",
      "Epoch 29/40\n",
      "1077/1077 [==============================] - 186s 172ms/step - loss: 0.0700\n",
      "Epoch 30/40\n",
      "1077/1077 [==============================] - 186s 172ms/step - loss: 0.0674\n",
      "Epoch 31/40\n",
      "1077/1077 [==============================] - 185s 171ms/step - loss: 0.0656\n",
      "Epoch 32/40\n",
      "1077/1077 [==============================] - 183s 170ms/step - loss: 0.0636\n",
      "Epoch 33/40\n",
      "1077/1077 [==============================] - 183s 170ms/step - loss: 0.0637\n",
      "Epoch 34/40\n",
      "1077/1077 [==============================] - 186s 172ms/step - loss: 0.0591\n",
      "Epoch 35/40\n",
      "1077/1077 [==============================] - 185s 172ms/step - loss: 0.0579\n",
      "Epoch 36/40\n",
      "1077/1077 [==============================] - 186s 172ms/step - loss: 0.0561\n",
      "Epoch 37/40\n",
      "1077/1077 [==============================] - 186s 172ms/step - loss: 0.0561\n",
      "Epoch 38/40\n",
      "1077/1077 [==============================] - 186s 172ms/step - loss: 0.0537\n",
      "Epoch 39/40\n",
      "1077/1077 [==============================] - 186s 173ms/step - loss: 0.0514\n",
      "Epoch 40/40\n",
      "1077/1077 [==============================] - 185s 171ms/step - loss: 0.0506\n"
     ]
    },
    {
     "data": {
      "text/plain": [
       "<tensorflow.python.keras.callbacks.History at 0x1c88425a508>"
      ]
     },
     "execution_count": 32,
     "metadata": {},
     "output_type": "execute_result"
    }
   ],
   "source": [
    "# fitting the model \n",
    "attention_model2.fit(train_dataloader, steps_per_epoch=train_steps, verbose=1,\n",
    "                    epochs=40, callbacks=callbacks)"
   ]
  },
  {
   "cell_type": "markdown",
   "metadata": {},
   "source": [
    "__Training tensorboard plot:__"
   ]
  },
  {
   "cell_type": "code",
   "execution_count": 37,
   "metadata": {},
   "outputs": [
    {
     "data": {
      "image/jpeg": "[encoded data removed]",
      "text/plain": [
       "<IPython.core.display.Image object>"
      ]
     },
     "execution_count": 37,
     "metadata": {},
     "output_type": "execute_result"
    }
   ],
   "source": [
    "from IPython.display import Image\n",
    "Image('Tensorboard Plots\\\\General.jpg')"
   ]
  },
  {
   "cell_type": "code",
   "execution_count": 33,
   "metadata": {},
   "outputs": [],
   "source": [
    "# saving the model weights\n",
    "attention_model2.save_weights('New Saves\\\\GeneralAttentionModel.h5')"
   ]
  },
  {
   "cell_type": "code",
   "execution_count": 20,
   "metadata": {},
   "outputs": [],
   "source": [
    "tf.keras.backend.clear_session()\n",
    "# create a model object\n",
    "attention_model2 = encoder_decoder(enc_input_length=20, dec_input_length=20, batch_size=256, score_fun='general')\n",
    "# compiling the model\n",
    "attention_model2.compile(optimizer='adam', loss=custom_lossfunction)"
   ]
  },
  {
   "cell_type": "code",
   "execution_count": 21,
   "metadata": {
    "collapsed": true
   },
   "outputs": [
    {
     "name": "stdout",
     "output_type": "stream",
     "text": [
      "Train for 1077 steps\n",
      "Epoch 1/40\n",
      "  10/1077 [..............................] - ETA: 12:12 - loss: 3.2695"
     ]
    },
    {
     "ename": "KeyboardInterrupt",
     "evalue": "",
     "output_type": "error",
     "traceback": [
      "\u001b[1;31m---------------------------------------------------------------------------\u001b[0m",
      "\u001b[1;31mKeyboardInterrupt\u001b[0m                         Traceback (most recent call last)",
      "\u001b[1;32m<ipython-input-21-ca801390c568>\u001b[0m in \u001b[0;36m<module>\u001b[1;34m()\u001b[0m\n\u001b[0;32m      1\u001b[0m \u001b[1;31m# fitting the model\u001b[0m\u001b[1;33m\u001b[0m\u001b[1;33m\u001b[0m\u001b[1;33m\u001b[0m\u001b[0m\n\u001b[0;32m      2\u001b[0m attention_model2.fit(train_dataloader, steps_per_epoch=train_steps, verbose=1,\n\u001b[1;32m----> 3\u001b[1;33m                     epochs=40)\n\u001b[0m",
      "\u001b[1;32mC:\\Anaconda\\envs\\DeepLearning\\lib\\site-packages\\tensorflow_core\\python\\keras\\engine\\training.py\u001b[0m in \u001b[0;36mfit\u001b[1;34m(self, x, y, batch_size, epochs, verbose, callbacks, validation_split, validation_data, shuffle, class_weight, sample_weight, initial_epoch, steps_per_epoch, validation_steps, validation_freq, max_queue_size, workers, use_multiprocessing, **kwargs)\u001b[0m\n\u001b[0;32m    817\u001b[0m         \u001b[0mmax_queue_size\u001b[0m\u001b[1;33m=\u001b[0m\u001b[0mmax_queue_size\u001b[0m\u001b[1;33m,\u001b[0m\u001b[1;33m\u001b[0m\u001b[1;33m\u001b[0m\u001b[0m\n\u001b[0;32m    818\u001b[0m         \u001b[0mworkers\u001b[0m\u001b[1;33m=\u001b[0m\u001b[0mworkers\u001b[0m\u001b[1;33m,\u001b[0m\u001b[1;33m\u001b[0m\u001b[1;33m\u001b[0m\u001b[0m\n\u001b[1;32m--> 819\u001b[1;33m         use_multiprocessing=use_multiprocessing)\n\u001b[0m\u001b[0;32m    820\u001b[0m \u001b[1;33m\u001b[0m\u001b[0m\n\u001b[0;32m    821\u001b[0m   def evaluate(self,\n",
      "\u001b[1;32mC:\\Anaconda\\envs\\DeepLearning\\lib\\site-packages\\tensorflow_core\\python\\keras\\engine\\training_v2.py\u001b[0m in \u001b[0;36mfit\u001b[1;34m(self, model, x, y, batch_size, epochs, verbose, callbacks, validation_split, validation_data, shuffle, class_weight, sample_weight, initial_epoch, steps_per_epoch, validation_steps, validation_freq, max_queue_size, workers, use_multiprocessing, **kwargs)\u001b[0m\n\u001b[0;32m    340\u001b[0m                 \u001b[0mmode\u001b[0m\u001b[1;33m=\u001b[0m\u001b[0mModeKeys\u001b[0m\u001b[1;33m.\u001b[0m\u001b[0mTRAIN\u001b[0m\u001b[1;33m,\u001b[0m\u001b[1;33m\u001b[0m\u001b[1;33m\u001b[0m\u001b[0m\n\u001b[0;32m    341\u001b[0m                 \u001b[0mtraining_context\u001b[0m\u001b[1;33m=\u001b[0m\u001b[0mtraining_context\u001b[0m\u001b[1;33m,\u001b[0m\u001b[1;33m\u001b[0m\u001b[1;33m\u001b[0m\u001b[0m\n\u001b[1;32m--> 342\u001b[1;33m                 total_epochs=epochs)\n\u001b[0m\u001b[0;32m    343\u001b[0m             \u001b[0mcbks\u001b[0m\u001b[1;33m.\u001b[0m\u001b[0mmake_logs\u001b[0m\u001b[1;33m(\u001b[0m\u001b[0mmodel\u001b[0m\u001b[1;33m,\u001b[0m \u001b[0mepoch_logs\u001b[0m\u001b[1;33m,\u001b[0m \u001b[0mtraining_result\u001b[0m\u001b[1;33m,\u001b[0m \u001b[0mModeKeys\u001b[0m\u001b[1;33m.\u001b[0m\u001b[0mTRAIN\u001b[0m\u001b[1;33m)\u001b[0m\u001b[1;33m\u001b[0m\u001b[1;33m\u001b[0m\u001b[0m\n\u001b[0;32m    344\u001b[0m \u001b[1;33m\u001b[0m\u001b[0m\n",
      "\u001b[1;32mC:\\Anaconda\\envs\\DeepLearning\\lib\\site-packages\\tensorflow_core\\python\\keras\\engine\\training_v2.py\u001b[0m in \u001b[0;36mrun_one_epoch\u001b[1;34m(model, iterator, execution_function, dataset_size, batch_size, strategy, steps_per_epoch, num_samples, mode, training_context, total_epochs)\u001b[0m\n\u001b[0;32m    126\u001b[0m         step=step, mode=mode, size=current_batch_size) as batch_logs:\n\u001b[0;32m    127\u001b[0m       \u001b[1;32mtry\u001b[0m\u001b[1;33m:\u001b[0m\u001b[1;33m\u001b[0m\u001b[1;33m\u001b[0m\u001b[0m\n\u001b[1;32m--> 128\u001b[1;33m         \u001b[0mbatch_outs\u001b[0m \u001b[1;33m=\u001b[0m \u001b[0mexecution_function\u001b[0m\u001b[1;33m(\u001b[0m\u001b[0miterator\u001b[0m\u001b[1;33m)\u001b[0m\u001b[1;33m\u001b[0m\u001b[1;33m\u001b[0m\u001b[0m\n\u001b[0m\u001b[0;32m    129\u001b[0m       \u001b[1;32mexcept\u001b[0m \u001b[1;33m(\u001b[0m\u001b[0mStopIteration\u001b[0m\u001b[1;33m,\u001b[0m \u001b[0merrors\u001b[0m\u001b[1;33m.\u001b[0m\u001b[0mOutOfRangeError\u001b[0m\u001b[1;33m)\u001b[0m\u001b[1;33m:\u001b[0m\u001b[1;33m\u001b[0m\u001b[1;33m\u001b[0m\u001b[0m\n\u001b[0;32m    130\u001b[0m         \u001b[1;31m# TODO(kaftan): File bug about tf function and errors.OutOfRangeError?\u001b[0m\u001b[1;33m\u001b[0m\u001b[1;33m\u001b[0m\u001b[1;33m\u001b[0m\u001b[0m\n",
      "\u001b[1;32mC:\\Anaconda\\envs\\DeepLearning\\lib\\site-packages\\tensorflow_core\\python\\keras\\engine\\training_v2_utils.py\u001b[0m in \u001b[0;36mexecution_function\u001b[1;34m(input_fn)\u001b[0m\n\u001b[0;32m     96\u001b[0m     \u001b[1;31m# `numpy` translates Tensors to values in Eager mode.\u001b[0m\u001b[1;33m\u001b[0m\u001b[1;33m\u001b[0m\u001b[1;33m\u001b[0m\u001b[0m\n\u001b[0;32m     97\u001b[0m     return nest.map_structure(_non_none_constant_value,\n\u001b[1;32m---> 98\u001b[1;33m                               distributed_function(input_fn))\n\u001b[0m\u001b[0;32m     99\u001b[0m \u001b[1;33m\u001b[0m\u001b[0m\n\u001b[0;32m    100\u001b[0m   \u001b[1;32mreturn\u001b[0m \u001b[0mexecution_function\u001b[0m\u001b[1;33m\u001b[0m\u001b[1;33m\u001b[0m\u001b[0m\n",
      "\u001b[1;32mC:\\Anaconda\\envs\\DeepLearning\\lib\\site-packages\\tensorflow_core\\python\\eager\\def_function.py\u001b[0m in \u001b[0;36m__call__\u001b[1;34m(self, *args, **kwds)\u001b[0m\n\u001b[0;32m    566\u001b[0m         \u001b[0mxla_context\u001b[0m\u001b[1;33m.\u001b[0m\u001b[0mExit\u001b[0m\u001b[1;33m(\u001b[0m\u001b[1;33m)\u001b[0m\u001b[1;33m\u001b[0m\u001b[1;33m\u001b[0m\u001b[0m\n\u001b[0;32m    567\u001b[0m     \u001b[1;32melse\u001b[0m\u001b[1;33m:\u001b[0m\u001b[1;33m\u001b[0m\u001b[1;33m\u001b[0m\u001b[0m\n\u001b[1;32m--> 568\u001b[1;33m       \u001b[0mresult\u001b[0m \u001b[1;33m=\u001b[0m \u001b[0mself\u001b[0m\u001b[1;33m.\u001b[0m\u001b[0m_call\u001b[0m\u001b[1;33m(\u001b[0m\u001b[1;33m*\u001b[0m\u001b[0margs\u001b[0m\u001b[1;33m,\u001b[0m \u001b[1;33m**\u001b[0m\u001b[0mkwds\u001b[0m\u001b[1;33m)\u001b[0m\u001b[1;33m\u001b[0m\u001b[1;33m\u001b[0m\u001b[0m\n\u001b[0m\u001b[0;32m    569\u001b[0m \u001b[1;33m\u001b[0m\u001b[0m\n\u001b[0;32m    570\u001b[0m     \u001b[1;32mif\u001b[0m \u001b[0mtracing_count\u001b[0m \u001b[1;33m==\u001b[0m \u001b[0mself\u001b[0m\u001b[1;33m.\u001b[0m\u001b[0m_get_tracing_count\u001b[0m\u001b[1;33m(\u001b[0m\u001b[1;33m)\u001b[0m\u001b[1;33m:\u001b[0m\u001b[1;33m\u001b[0m\u001b[1;33m\u001b[0m\u001b[0m\n",
      "\u001b[1;32mC:\\Anaconda\\envs\\DeepLearning\\lib\\site-packages\\tensorflow_core\\python\\eager\\def_function.py\u001b[0m in \u001b[0;36m_call\u001b[1;34m(self, *args, **kwds)\u001b[0m\n\u001b[0;32m    597\u001b[0m       \u001b[1;31m# In this case we have created variables on the first call, so we run the\u001b[0m\u001b[1;33m\u001b[0m\u001b[1;33m\u001b[0m\u001b[1;33m\u001b[0m\u001b[0m\n\u001b[0;32m    598\u001b[0m       \u001b[1;31m# defunned version which is guaranteed to never create variables.\u001b[0m\u001b[1;33m\u001b[0m\u001b[1;33m\u001b[0m\u001b[1;33m\u001b[0m\u001b[0m\n\u001b[1;32m--> 599\u001b[1;33m       \u001b[1;32mreturn\u001b[0m \u001b[0mself\u001b[0m\u001b[1;33m.\u001b[0m\u001b[0m_stateless_fn\u001b[0m\u001b[1;33m(\u001b[0m\u001b[1;33m*\u001b[0m\u001b[0margs\u001b[0m\u001b[1;33m,\u001b[0m \u001b[1;33m**\u001b[0m\u001b[0mkwds\u001b[0m\u001b[1;33m)\u001b[0m  \u001b[1;31m# pylint: disable=not-callable\u001b[0m\u001b[1;33m\u001b[0m\u001b[1;33m\u001b[0m\u001b[0m\n\u001b[0m\u001b[0;32m    600\u001b[0m     \u001b[1;32melif\u001b[0m \u001b[0mself\u001b[0m\u001b[1;33m.\u001b[0m\u001b[0m_stateful_fn\u001b[0m \u001b[1;32mis\u001b[0m \u001b[1;32mnot\u001b[0m \u001b[1;32mNone\u001b[0m\u001b[1;33m:\u001b[0m\u001b[1;33m\u001b[0m\u001b[1;33m\u001b[0m\u001b[0m\n\u001b[0;32m    601\u001b[0m       \u001b[1;31m# Release the lock early so that multiple threads can perform the call\u001b[0m\u001b[1;33m\u001b[0m\u001b[1;33m\u001b[0m\u001b[1;33m\u001b[0m\u001b[0m\n",
      "\u001b[1;32mC:\\Anaconda\\envs\\DeepLearning\\lib\\site-packages\\tensorflow_core\\python\\eager\\function.py\u001b[0m in \u001b[0;36m__call__\u001b[1;34m(self, *args, **kwargs)\u001b[0m\n\u001b[0;32m   2361\u001b[0m     \u001b[1;32mwith\u001b[0m \u001b[0mself\u001b[0m\u001b[1;33m.\u001b[0m\u001b[0m_lock\u001b[0m\u001b[1;33m:\u001b[0m\u001b[1;33m\u001b[0m\u001b[1;33m\u001b[0m\u001b[0m\n\u001b[0;32m   2362\u001b[0m       \u001b[0mgraph_function\u001b[0m\u001b[1;33m,\u001b[0m \u001b[0margs\u001b[0m\u001b[1;33m,\u001b[0m \u001b[0mkwargs\u001b[0m \u001b[1;33m=\u001b[0m \u001b[0mself\u001b[0m\u001b[1;33m.\u001b[0m\u001b[0m_maybe_define_function\u001b[0m\u001b[1;33m(\u001b[0m\u001b[0margs\u001b[0m\u001b[1;33m,\u001b[0m \u001b[0mkwargs\u001b[0m\u001b[1;33m)\u001b[0m\u001b[1;33m\u001b[0m\u001b[1;33m\u001b[0m\u001b[0m\n\u001b[1;32m-> 2363\u001b[1;33m     \u001b[1;32mreturn\u001b[0m \u001b[0mgraph_function\u001b[0m\u001b[1;33m.\u001b[0m\u001b[0m_filtered_call\u001b[0m\u001b[1;33m(\u001b[0m\u001b[0margs\u001b[0m\u001b[1;33m,\u001b[0m \u001b[0mkwargs\u001b[0m\u001b[1;33m)\u001b[0m  \u001b[1;31m# pylint: disable=protected-access\u001b[0m\u001b[1;33m\u001b[0m\u001b[1;33m\u001b[0m\u001b[0m\n\u001b[0m\u001b[0;32m   2364\u001b[0m \u001b[1;33m\u001b[0m\u001b[0m\n\u001b[0;32m   2365\u001b[0m   \u001b[1;33m@\u001b[0m\u001b[0mproperty\u001b[0m\u001b[1;33m\u001b[0m\u001b[1;33m\u001b[0m\u001b[0m\n",
      "\u001b[1;32mC:\\Anaconda\\envs\\DeepLearning\\lib\\site-packages\\tensorflow_core\\python\\eager\\function.py\u001b[0m in \u001b[0;36m_filtered_call\u001b[1;34m(self, args, kwargs)\u001b[0m\n\u001b[0;32m   1609\u001b[0m          if isinstance(t, (ops.Tensor,\n\u001b[0;32m   1610\u001b[0m                            resource_variable_ops.BaseResourceVariable))),\n\u001b[1;32m-> 1611\u001b[1;33m         self.captured_inputs)\n\u001b[0m\u001b[0;32m   1612\u001b[0m \u001b[1;33m\u001b[0m\u001b[0m\n\u001b[0;32m   1613\u001b[0m   \u001b[1;32mdef\u001b[0m \u001b[0m_call_flat\u001b[0m\u001b[1;33m(\u001b[0m\u001b[0mself\u001b[0m\u001b[1;33m,\u001b[0m \u001b[0margs\u001b[0m\u001b[1;33m,\u001b[0m \u001b[0mcaptured_inputs\u001b[0m\u001b[1;33m,\u001b[0m \u001b[0mcancellation_manager\u001b[0m\u001b[1;33m=\u001b[0m\u001b[1;32mNone\u001b[0m\u001b[1;33m)\u001b[0m\u001b[1;33m:\u001b[0m\u001b[1;33m\u001b[0m\u001b[1;33m\u001b[0m\u001b[0m\n",
      "\u001b[1;32mC:\\Anaconda\\envs\\DeepLearning\\lib\\site-packages\\tensorflow_core\\python\\eager\\function.py\u001b[0m in \u001b[0;36m_call_flat\u001b[1;34m(self, args, captured_inputs, cancellation_manager)\u001b[0m\n\u001b[0;32m   1690\u001b[0m       \u001b[1;31m# No tape is watching; skip to running the function.\u001b[0m\u001b[1;33m\u001b[0m\u001b[1;33m\u001b[0m\u001b[1;33m\u001b[0m\u001b[0m\n\u001b[0;32m   1691\u001b[0m       return self._build_call_outputs(self._inference_function.call(\n\u001b[1;32m-> 1692\u001b[1;33m           ctx, args, cancellation_manager=cancellation_manager))\n\u001b[0m\u001b[0;32m   1693\u001b[0m     forward_backward = self._select_forward_and_backward_functions(\n\u001b[0;32m   1694\u001b[0m         \u001b[0margs\u001b[0m\u001b[1;33m,\u001b[0m\u001b[1;33m\u001b[0m\u001b[1;33m\u001b[0m\u001b[0m\n",
      "\u001b[1;32mC:\\Anaconda\\envs\\DeepLearning\\lib\\site-packages\\tensorflow_core\\python\\eager\\function.py\u001b[0m in \u001b[0;36mcall\u001b[1;34m(self, ctx, args, cancellation_manager)\u001b[0m\n\u001b[0;32m    543\u001b[0m               \u001b[0minputs\u001b[0m\u001b[1;33m=\u001b[0m\u001b[0margs\u001b[0m\u001b[1;33m,\u001b[0m\u001b[1;33m\u001b[0m\u001b[1;33m\u001b[0m\u001b[0m\n\u001b[0;32m    544\u001b[0m               \u001b[0mattrs\u001b[0m\u001b[1;33m=\u001b[0m\u001b[1;33m(\u001b[0m\u001b[1;34m\"executor_type\"\u001b[0m\u001b[1;33m,\u001b[0m \u001b[0mexecutor_type\u001b[0m\u001b[1;33m,\u001b[0m \u001b[1;34m\"config_proto\"\u001b[0m\u001b[1;33m,\u001b[0m \u001b[0mconfig\u001b[0m\u001b[1;33m)\u001b[0m\u001b[1;33m,\u001b[0m\u001b[1;33m\u001b[0m\u001b[1;33m\u001b[0m\u001b[0m\n\u001b[1;32m--> 545\u001b[1;33m               ctx=ctx)\n\u001b[0m\u001b[0;32m    546\u001b[0m         \u001b[1;32melse\u001b[0m\u001b[1;33m:\u001b[0m\u001b[1;33m\u001b[0m\u001b[1;33m\u001b[0m\u001b[0m\n\u001b[0;32m    547\u001b[0m           outputs = execute.execute_with_cancellation(\n",
      "\u001b[1;32mC:\\Anaconda\\envs\\DeepLearning\\lib\\site-packages\\tensorflow_core\\python\\eager\\execute.py\u001b[0m in \u001b[0;36mquick_execute\u001b[1;34m(op_name, num_outputs, inputs, attrs, ctx, name)\u001b[0m\n\u001b[0;32m     59\u001b[0m     tensors = pywrap_tensorflow.TFE_Py_Execute(ctx._handle, device_name,\n\u001b[0;32m     60\u001b[0m                                                \u001b[0mop_name\u001b[0m\u001b[1;33m,\u001b[0m \u001b[0minputs\u001b[0m\u001b[1;33m,\u001b[0m \u001b[0mattrs\u001b[0m\u001b[1;33m,\u001b[0m\u001b[1;33m\u001b[0m\u001b[1;33m\u001b[0m\u001b[0m\n\u001b[1;32m---> 61\u001b[1;33m                                                num_outputs)\n\u001b[0m\u001b[0;32m     62\u001b[0m   \u001b[1;32mexcept\u001b[0m \u001b[0mcore\u001b[0m\u001b[1;33m.\u001b[0m\u001b[0m_NotOkStatusException\u001b[0m \u001b[1;32mas\u001b[0m \u001b[0me\u001b[0m\u001b[1;33m:\u001b[0m\u001b[1;33m\u001b[0m\u001b[1;33m\u001b[0m\u001b[0m\n\u001b[0;32m     63\u001b[0m     \u001b[1;32mif\u001b[0m \u001b[0mname\u001b[0m \u001b[1;32mis\u001b[0m \u001b[1;32mnot\u001b[0m \u001b[1;32mNone\u001b[0m\u001b[1;33m:\u001b[0m\u001b[1;33m\u001b[0m\u001b[1;33m\u001b[0m\u001b[0m\n",
      "\u001b[1;31mKeyboardInterrupt\u001b[0m: "
     ]
    }
   ],
   "source": [
    "# fitting the model \n",
    "attention_model2.fit(train_dataloader, steps_per_epoch=train_steps, verbose=1,\n",
    "                    epochs=40)"
   ]
  },
  {
   "cell_type": "code",
   "execution_count": 22,
   "metadata": {},
   "outputs": [],
   "source": [
    "# loading the model weights\n",
    "attention_model2.load_weights('New Saves\\\\GeneralAttentionModel.h5')"
   ]
  },
  {
   "cell_type": "markdown",
   "metadata": {},
   "source": [
    "#### Translating some sentences and looking at their attention plots."
   ]
  },
  {
   "cell_type": "code",
   "execution_count": 27,
   "metadata": {},
   "outputs": [
    {
     "data": {
      "image/png": "[encoded data removed]",
      "text/plain": [
       "<Figure size 720x720 with 2 Axes>"
      ]
     },
     "metadata": {
      "needs_background": "light"
     },
     "output_type": "display_data"
    },
    {
     "data": {
      "text/plain": [
       "'i dare you to call tom a sissy'"
      ]
     },
     "execution_count": 27,
     "metadata": {},
     "output_type": "execute_result"
    }
   ],
   "source": [
    "# EXAMPLE 1\n",
    "# getting the translation\n",
    "sent_ind = 2248\n",
    "sent = predict(validation['italian'].iloc[sent_ind], attention_model=attention_model2, plot_attention_wts=True)\n",
    "sent"
   ]
  },
  {
   "cell_type": "code",
   "execution_count": 35,
   "metadata": {},
   "outputs": [
    {
     "data": {
      "text/plain": [
       "('i dare you to call tom a sissy <end>',\n",
       " 'ti sfido a dare della femminuccia a tom')"
      ]
     },
     "execution_count": 35,
     "metadata": {},
     "output_type": "execute_result"
    }
   ],
   "source": [
    "# the real sentences\n",
    "validation.iloc[sent_ind]['english_output'], validation.iloc[sent_ind]['italian']"
   ]
  },
  {
   "cell_type": "code",
   "execution_count": 36,
   "metadata": {},
   "outputs": [
    {
     "data": {
      "image/png": "[encoded data removed]",
      "text/plain": [
       "<Figure size 720x720 with 2 Axes>"
      ]
     },
     "metadata": {
      "needs_background": "light"
     },
     "output_type": "display_data"
    },
    {
     "data": {
      "text/plain": [
       "'it is going too far'"
      ]
     },
     "execution_count": 36,
     "metadata": {},
     "output_type": "execute_result"
    }
   ],
   "source": [
    "# EXAMPLE 2\n",
    "sent_ind = 228\n",
    "sent = predict(validation['italian'].iloc[sent_ind], attention_model=attention_model2, plot_attention_wts=True)\n",
    "sent"
   ]
  },
  {
   "cell_type": "code",
   "execution_count": 37,
   "metadata": {},
   "outputs": [
    {
     "data": {
      "text/plain": [
       "('you are going too far <end>', 'sta andando troppo lontano')"
      ]
     },
     "execution_count": 37,
     "metadata": {},
     "output_type": "execute_result"
    }
   ],
   "source": [
    "# the real sentences\n",
    "validation.iloc[sent_ind]['english_output'], validation.iloc[sent_ind]['italian']"
   ]
  },
  {
   "cell_type": "code",
   "execution_count": 38,
   "metadata": {},
   "outputs": [
    {
     "data": {
      "image/png": "[encoded data removed]",
      "text/plain": [
       "<Figure size 720x720 with 2 Axes>"
      ]
     },
     "metadata": {
      "needs_background": "light"
     },
     "output_type": "display_data"
    },
    {
     "data": {
      "text/plain": [
       "'can you please help me put price tags on everything'"
      ]
     },
     "execution_count": 38,
     "metadata": {},
     "output_type": "execute_result"
    }
   ],
   "source": [
    "# EXAMPLE 3\n",
    "sent_ind = 44\n",
    "sent = predict(validation['italian'].iloc[sent_ind], attention_model=attention_model2, plot_attention_wts=True)\n",
    "sent"
   ]
  },
  {
   "cell_type": "code",
   "execution_count": 39,
   "metadata": {},
   "outputs": [
    {
     "data": {
      "text/plain": [
       "('can you please help me put price tags on everything <end>',\n",
       " 'per favore mi puoi aiutare a mettere dei cartellini dei prezzi su tutto')"
      ]
     },
     "execution_count": 39,
     "metadata": {},
     "output_type": "execute_result"
    }
   ],
   "source": [
    "# the real sentences\n",
    "validation.iloc[sent_ind]['english_output'], validation.iloc[sent_ind]['italian']"
   ]
  },
  {
   "cell_type": "code",
   "execution_count": 41,
   "metadata": {},
   "outputs": [
    {
     "data": {
      "image/png": "[encoded data removed]",
      "text/plain": [
       "<Figure size 720x720 with 2 Axes>"
      ]
     },
     "metadata": {
      "needs_background": "light"
     },
     "output_type": "display_data"
    },
    {
     "data": {
      "text/plain": [
       "'we can not help tom anymore'"
      ]
     },
     "execution_count": 41,
     "metadata": {},
     "output_type": "execute_result"
    }
   ],
   "source": [
    "# EXAMPLE 3\n",
    "sent_ind = 41\n",
    "sent = predict(validation['italian'].iloc[sent_ind], attention_model=attention_model2, plot_attention_wts=True)\n",
    "sent"
   ]
  },
  {
   "cell_type": "markdown",
   "metadata": {
    "id": "jmxIVOOQPWMu"
   },
   "source": [
    "<font color='blue'>**Calculate BLEU score**</font>"
   ]
  },
  {
   "cell_type": "code",
   "execution_count": 29,
   "metadata": {},
   "outputs": [],
   "source": [
    "import nltk.translate.bleu_score as bleu"
   ]
  },
  {
   "cell_type": "code",
   "execution_count": 30,
   "metadata": {},
   "outputs": [
    {
     "name": "stdout",
     "output_type": "stream",
     "text": [
      "(1000, 3)\n"
     ]
    },
    {
     "data": {
      "text/html": [
       "<div>\n",
       "<style scoped>\n",
       "    .dataframe tbody tr th:only-of-type {\n",
       "        vertical-align: middle;\n",
       "    }\n",
       "\n",
       "    .dataframe tbody tr th {\n",
       "        vertical-align: top;\n",
       "    }\n",
       "\n",
       "    .dataframe thead th {\n",
       "        text-align: right;\n",
       "    }\n",
       "</style>\n",
       "<table border=\"1\" class=\"dataframe\">\n",
       "  <thead>\n",
       "    <tr style=\"text-align: right;\">\n",
       "      <th></th>\n",
       "      <th>italian</th>\n",
       "      <th>english_input</th>\n",
       "      <th>english_output</th>\n",
       "    </tr>\n",
       "  </thead>\n",
       "  <tbody>\n",
       "    <tr>\n",
       "      <th>164120</th>\n",
       "      <td>io spero che le cose cambieranno</td>\n",
       "      <td>&lt;start&gt; i hope things will change</td>\n",
       "      <td>i hope things will change &lt;end&gt;</td>\n",
       "    </tr>\n",
       "    <tr>\n",
       "      <th>288665</th>\n",
       "      <td>non lo so perché non chiede a tom</td>\n",
       "      <td>&lt;start&gt; i do not know why do not you ask tom</td>\n",
       "      <td>i do not know why do not you ask tom &lt;end&gt;</td>\n",
       "    </tr>\n",
       "    <tr>\n",
       "      <th>210230</th>\n",
       "      <td>io non ho niente da dirti</td>\n",
       "      <td>&lt;start&gt; i have nothing to say to you</td>\n",
       "      <td>i have nothing to say to you &lt;end&gt;</td>\n",
       "    </tr>\n",
       "    <tr>\n",
       "      <th>282360</th>\n",
       "      <td>si dice che lui conosca il segreto</td>\n",
       "      <td>&lt;start&gt; it is said that he knows the secret</td>\n",
       "      <td>it is said that he knows the secret &lt;end&gt;</td>\n",
       "    </tr>\n",
       "    <tr>\n",
       "      <th>94585</th>\n",
       "      <td>a tom non è mai piaciuta mary</td>\n",
       "      <td>&lt;start&gt; tom never liked mary</td>\n",
       "      <td>tom never liked mary &lt;end&gt;</td>\n",
       "    </tr>\n",
       "  </tbody>\n",
       "</table>\n",
       "</div>"
      ],
      "text/plain": [
       "                                   italian  \\\n",
       "164120    io spero che le cose cambieranno   \n",
       "288665   non lo so perché non chiede a tom   \n",
       "210230           io non ho niente da dirti   \n",
       "282360  si dice che lui conosca il segreto   \n",
       "94585        a tom non è mai piaciuta mary   \n",
       "\n",
       "                                       english_input  \\\n",
       "164120             <start> i hope things will change   \n",
       "288665  <start> i do not know why do not you ask tom   \n",
       "210230          <start> i have nothing to say to you   \n",
       "282360   <start> it is said that he knows the secret   \n",
       "94585                   <start> tom never liked mary   \n",
       "\n",
       "                                    english_output  \n",
       "164120             i hope things will change <end>  \n",
       "288665  i do not know why do not you ask tom <end>  \n",
       "210230          i have nothing to say to you <end>  \n",
       "282360   it is said that he knows the secret <end>  \n",
       "94585                   tom never liked mary <end>  "
      ]
     },
     "execution_count": 30,
     "metadata": {},
     "output_type": "execute_result"
    }
   ],
   "source": [
    "# sampling 1000 sentences from the testing set at random\n",
    "sample = validation.sample(n=1000, random_state=0)\n",
    "print(sample.shape)\n",
    "sample.head()"
   ]
  },
  {
   "cell_type": "code",
   "execution_count": 32,
   "metadata": {},
   "outputs": [
    {
     "name": "stderr",
     "output_type": "stream",
     "text": [
      "100%|██████████████████████████████████████████████████████████████████████████████| 1000/1000 [01:06<00:00, 15.14it/s]\n"
     ]
    }
   ],
   "source": [
    "# translating all the sentences from the sample\n",
    "translations = []\n",
    "for sent in tqdm(sample['italian']):\n",
    "    # translating\n",
    "    trans_ = predict(sent, attention_model2)\n",
    "    # appending to the list\n",
    "    translations.append(trans_)"
   ]
  },
  {
   "cell_type": "code",
   "execution_count": 33,
   "metadata": {},
   "outputs": [
    {
     "name": "stdout",
     "output_type": "stream",
     "text": [
      "Original Italian sentence: io spero che le cose cambieranno\n",
      "Actual English Translation: i hope things will change <end>\n",
      "Translation done by the model: i hope things will change\n",
      "----------------------------------------------------------------------------------------------------\n",
      "Original Italian sentence: non lo so perché non chiede a tom\n",
      "Actual English Translation: i do not know why do not you ask tom <end>\n",
      "Translation done by the model: i do not know why you do not ask tom\n",
      "----------------------------------------------------------------------------------------------------\n",
      "Original Italian sentence: io non ho niente da dirti\n",
      "Actual English Translation: i have nothing to say to you <end>\n",
      "Translation done by the model: i have got nothing to tell you\n",
      "----------------------------------------------------------------------------------------------------\n",
      "Original Italian sentence: si dice che lui conosca il segreto\n",
      "Actual English Translation: it is said that he knows the secret <end>\n",
      "Translation done by the model: it is said that he knows the secret\n",
      "----------------------------------------------------------------------------------------------------\n",
      "Original Italian sentence: a tom non è mai piaciuta mary\n",
      "Actual English Translation: tom never liked mary <end>\n",
      "Translation done by the model: tom never liked mary\n",
      "----------------------------------------------------------------------------------------------------\n"
     ]
    }
   ],
   "source": [
    "# printing a few translations\n",
    "for i in range(5):\n",
    "    print('Original Italian sentence:', sample.iloc[i]['italian'])\n",
    "    print('Actual English Translation:', sample.iloc[i]['english_output'])\n",
    "    print('Translation done by the model:', translations[i])\n",
    "    print('-'*100)"
   ]
  },
  {
   "cell_type": "code",
   "execution_count": 34,
   "metadata": {
    "scrolled": true
   },
   "outputs": [
    {
     "name": "stdout",
     "output_type": "stream",
     "text": [
      "Aerage bleu score: 0.40816751032667026\n"
     ]
    },
    {
     "name": "stderr",
     "output_type": "stream",
     "text": [
      "C:\\Anaconda\\envs\\DeepLearning\\lib\\site-packages\\nltk\\translate\\bleu_score.py:516: UserWarning: \n",
      "The hypothesis contains 0 counts of 3-gram overlaps.\n",
      "Therefore the BLEU score evaluates to 0, independently of\n",
      "how many N-gram overlaps of lower order it contains.\n",
      "Consider using lower n-gram order or use SmoothingFunction()\n",
      "  warnings.warn(_msg)\n",
      "C:\\Anaconda\\envs\\DeepLearning\\lib\\site-packages\\nltk\\translate\\bleu_score.py:516: UserWarning: \n",
      "The hypothesis contains 0 counts of 4-gram overlaps.\n",
      "Therefore the BLEU score evaluates to 0, independently of\n",
      "how many N-gram overlaps of lower order it contains.\n",
      "Consider using lower n-gram order or use SmoothingFunction()\n",
      "  warnings.warn(_msg)\n",
      "C:\\Anaconda\\envs\\DeepLearning\\lib\\site-packages\\nltk\\translate\\bleu_score.py:516: UserWarning: \n",
      "The hypothesis contains 0 counts of 2-gram overlaps.\n",
      "Therefore the BLEU score evaluates to 0, independently of\n",
      "how many N-gram overlaps of lower order it contains.\n",
      "Consider using lower n-gram order or use SmoothingFunction()\n",
      "  warnings.warn(_msg)\n"
     ]
    }
   ],
   "source": [
    "# calculating bleu score for each sentence\n",
    "bleu_scores = [bleu.sentence_bleu([sample['english_output'].iloc[i].split()[:-1]], translations[i].split()[:-1]) for i in range(1000)]\n",
    "\n",
    "# calculating the average bleu score\n",
    "print(\"Aerage bleu score:\", sum(bleu_scores)/len(bleu_scores))"
   ]
  },
  {
   "cell_type": "markdown",
   "metadata": {
    "id": "VB1jRUqZQ9AM"
   },
   "source": [
    "<font color='blue'>**Repeat the same steps for Concat scoring function**</font>"
   ]
  },
  {
   "cell_type": "code",
   "execution_count": 28,
   "metadata": {
    "id": "1kN9ZWViQNMB"
   },
   "outputs": [],
   "source": [
    "#Compile and train your model on concat scoring function.\n",
    "# Visualize few sentences randomly in Test data\n",
    "# Predict on 1000 random sentences on test data and calculate the average BLEU score of these sentences.\n",
    "# https://www.nltk.org/_modules/nltk/translate/bleu_score.html"
   ]
  },
  {
   "cell_type": "code",
   "execution_count": 27,
   "metadata": {},
   "outputs": [],
   "source": [
    "# tensorboard callback\n",
    "from tensorflow.keras.callbacks import TensorBoard\n",
    "\n",
    "# tensorboard\n",
    "logdir = 'Attention Logs\\\\Concat'\n",
    "tensorboard = TensorBoard(log_dir=logdir, histogram_freq=1, write_graph=True,  profile_batch = 100000000)\n",
    "\n",
    "callbacks = [tensorboard]"
   ]
  },
  {
   "cell_type": "code",
   "execution_count": 29,
   "metadata": {},
   "outputs": [],
   "source": [
    "tf.keras.backend.clear_session()\n",
    "# create a model object\n",
    "attention_model3 = encoder_decoder(enc_input_length=20, dec_input_length=20, score_fun='concat', batch_size=256)\n",
    "# compiling the model\n",
    "attention_model3.compile(optimizer='adam', loss=custom_lossfunction)"
   ]
  },
  {
   "cell_type": "code",
   "execution_count": 30,
   "metadata": {
    "scrolled": true
   },
   "outputs": [
    {
     "name": "stdout",
     "output_type": "stream",
     "text": [
      "Train for 1077 steps\n",
      "Epoch 1/40\n",
      "1077/1077 [==============================] - 210s 195ms/step - loss: 1.6597\n",
      "Epoch 2/40\n",
      "1077/1077 [==============================] - 205s 191ms/step - loss: 1.1488\n",
      "Epoch 3/40\n",
      "1077/1077 [==============================] - 204s 189ms/step - loss: 0.8511\n",
      "Epoch 4/40\n",
      "1077/1077 [==============================] - 204s 189ms/step - loss: 0.6413\n",
      "Epoch 5/40\n",
      "1077/1077 [==============================] - 204s 189ms/step - loss: 0.4945\n",
      "Epoch 6/40\n",
      "1077/1077 [==============================] - 205s 191ms/step - loss: 0.3943\n",
      "Epoch 7/40\n",
      "1077/1077 [==============================] - 205s 191ms/step - loss: 0.3239\n",
      "Epoch 8/40\n",
      "1077/1077 [==============================] - 204s 189ms/step - loss: 0.2739\n",
      "Epoch 9/40\n",
      "1077/1077 [==============================] - 204s 189ms/step - loss: 0.2370\n",
      "Epoch 10/40\n",
      "1077/1077 [==============================] - 203s 189ms/step - loss: 0.2084\n",
      "Epoch 11/40\n",
      "1077/1077 [==============================] - 204s 189ms/step - loss: 0.1865\n",
      "Epoch 12/40\n",
      "1077/1077 [==============================] - 203s 189ms/step - loss: 0.1689\n",
      "Epoch 13/40\n",
      "1077/1077 [==============================] - 203s 189ms/step - loss: 0.1547\n",
      "Epoch 14/40\n",
      "1077/1077 [==============================] - 203s 189ms/step - loss: 0.1430\n",
      "Epoch 15/40\n",
      "1077/1077 [==============================] - 203s 189ms/step - loss: 0.1325\n",
      "Epoch 16/40\n",
      "1077/1077 [==============================] - 204s 189ms/step - loss: 0.1238\n",
      "Epoch 17/40\n",
      "1077/1077 [==============================] - 204s 189ms/step - loss: 0.1161\n",
      "Epoch 18/40\n",
      "1077/1077 [==============================] - 203s 189ms/step - loss: 0.1093\n",
      "Epoch 19/40\n",
      "1077/1077 [==============================] - 204s 189ms/step - loss: 0.1031\n",
      "Epoch 20/40\n",
      "1077/1077 [==============================] - 204s 189ms/step - loss: 0.0979\n",
      "Epoch 21/40\n",
      "1077/1077 [==============================] - 203s 189ms/step - loss: 0.0934\n",
      "Epoch 22/40\n",
      "1077/1077 [==============================] - 204s 189ms/step - loss: 0.0889\n",
      "Epoch 23/40\n",
      "1077/1077 [==============================] - 204s 189ms/step - loss: 0.0846\n",
      "Epoch 24/40\n",
      "1077/1077 [==============================] - 204s 189ms/step - loss: 0.0810\n",
      "Epoch 25/40\n",
      "1077/1077 [==============================] - 204s 189ms/step - loss: 0.0773\n",
      "Epoch 26/40\n",
      "1077/1077 [==============================] - 203s 189ms/step - loss: 0.0745\n",
      "Epoch 27/40\n",
      "1077/1077 [==============================] - 203s 189ms/step - loss: 0.0718\n",
      "Epoch 28/40\n",
      "1077/1077 [==============================] - 204s 189ms/step - loss: 0.0689\n",
      "Epoch 29/40\n",
      "1077/1077 [==============================] - 203s 189ms/step - loss: 0.0665s - los - ETA: 1s - loss:\n",
      "Epoch 30/40\n",
      "1077/1077 [==============================] - 203s 189ms/step - loss: 0.0637\n",
      "Epoch 31/40\n",
      "1077/1077 [==============================] - 204s 189ms/step - loss: 0.0617\n",
      "Epoch 32/40\n",
      "1077/1077 [==============================] - 204s 189ms/step - loss: 0.0598\n",
      "Epoch 33/40\n",
      "1077/1077 [==============================] - 203s 189ms/step - loss: 0.0576\n",
      "Epoch 34/40\n",
      "1077/1077 [==============================] - 204s 189ms/step - loss: 0.0560\n",
      "Epoch 35/40\n",
      "1077/1077 [==============================] - 206s 191ms/step - loss: 0.0543\n",
      "Epoch 36/40\n",
      "1077/1077 [==============================] - 205s 191ms/step - loss: 0.0524\n",
      "Epoch 37/40\n",
      "1077/1077 [==============================] - 204s 189ms/step - loss: 0.0512\n",
      "Epoch 38/40\n",
      "1077/1077 [==============================] - 204s 189ms/step - loss: 0.0494\n",
      "Epoch 39/40\n",
      "1077/1077 [==============================] - 203s 189ms/step - loss: 0.0487\n",
      "Epoch 40/40\n",
      "1077/1077 [==============================] - 203s 189ms/step - loss: 0.0467\n"
     ]
    },
    {
     "data": {
      "text/plain": [
       "<tensorflow.python.keras.callbacks.History at 0x2554cc9ca88>"
      ]
     },
     "execution_count": 30,
     "metadata": {},
     "output_type": "execute_result"
    }
   ],
   "source": [
    "# fitting the model - USING train data itself as the validation set\n",
    "attention_model3.fit(train_dataloader, steps_per_epoch=train_steps, verbose=1,\n",
    "                    epochs=40, callbacks=callbacks)"
   ]
  },
  {
   "cell_type": "markdown",
   "metadata": {},
   "source": [
    "__Training Tensorboard plot:__"
   ]
  },
  {
   "cell_type": "code",
   "execution_count": 39,
   "metadata": {},
   "outputs": [
    {
     "data": {
      "image/jpeg": "[encoded data removed]",
      "text/plain": [
       "<IPython.core.display.Image object>"
      ]
     },
     "execution_count": 39,
     "metadata": {},
     "output_type": "execute_result"
    }
   ],
   "source": [
    "from IPython.display import Image\n",
    "Image('Tensorboard Plots\\\\Concat.jpg')"
   ]
  },
  {
   "cell_type": "code",
   "execution_count": 31,
   "metadata": {},
   "outputs": [],
   "source": [
    "# saving the weights\n",
    "attention_model3.save_weights('New Saves\\\\ConcatAttentionModel.h5')"
   ]
  },
  {
   "cell_type": "markdown",
   "metadata": {},
   "source": [
    "#### Testing a few datapoints by plotting their attention plots."
   ]
  },
  {
   "cell_type": "code",
   "execution_count": 37,
   "metadata": {
    "scrolled": false
   },
   "outputs": [
    {
     "data": {
      "image/png": "[encoded data removed]",
      "text/plain": [
       "<Figure size 720x720 with 2 Axes>"
      ]
     },
     "metadata": {
      "needs_background": "light"
     },
     "output_type": "display_data"
    },
    {
     "data": {
      "text/plain": [
       "'i dare you to call me a sissy'"
      ]
     },
     "execution_count": 37,
     "metadata": {},
     "output_type": "execute_result"
    }
   ],
   "source": [
    "# EXAMPLE 1\n",
    "# getting the translation\n",
    "sent_ind = 2248\n",
    "sent = predict(validation['italian'].iloc[sent_ind], attention_model=attention_model3, plot_attention_wts=True)\n",
    "sent"
   ]
  },
  {
   "cell_type": "code",
   "execution_count": 38,
   "metadata": {},
   "outputs": [
    {
     "data": {
      "text/plain": [
       "('i dare you to call tom a sissy <end>',\n",
       " 'ti sfido a dare della femminuccia a tom')"
      ]
     },
     "execution_count": 38,
     "metadata": {},
     "output_type": "execute_result"
    }
   ],
   "source": [
    "# the real sentences\n",
    "validation.iloc[sent_ind]['english_output'], validation.iloc[sent_ind]['italian']"
   ]
  },
  {
   "cell_type": "code",
   "execution_count": 40,
   "metadata": {
    "scrolled": false
   },
   "outputs": [
    {
     "data": {
      "image/png": "[encoded data removed]",
      "text/plain": [
       "<Figure size 720x720 with 2 Axes>"
      ]
     },
     "metadata": {
      "needs_background": "light"
     },
     "output_type": "display_data"
    },
    {
     "data": {
      "text/plain": [
       "'can you please help me put price tags on everything'"
      ]
     },
     "execution_count": 40,
     "metadata": {},
     "output_type": "execute_result"
    }
   ],
   "source": [
    "# EXAMPLE 2\n",
    "sent_ind = 44\n",
    "sent = predict(validation['italian'].iloc[sent_ind], attention_model=attention_model3, plot_attention_wts=True)\n",
    "sent"
   ]
  },
  {
   "cell_type": "code",
   "execution_count": 41,
   "metadata": {},
   "outputs": [
    {
     "data": {
      "text/plain": [
       "('can you please help me put price tags on everything <end>',\n",
       " 'per favore mi puoi aiutare a mettere dei cartellini dei prezzi su tutto')"
      ]
     },
     "execution_count": 41,
     "metadata": {},
     "output_type": "execute_result"
    }
   ],
   "source": [
    "# the real sentences\n",
    "validation.iloc[sent_ind]['english_output'], validation.iloc[sent_ind]['italian']"
   ]
  },
  {
   "cell_type": "code",
   "execution_count": 42,
   "metadata": {},
   "outputs": [
    {
     "data": {
      "image/png": "[encoded data removed]",
      "text/plain": [
       "<Figure size 720x720 with 2 Axes>"
      ]
     },
     "metadata": {
      "needs_background": "light"
     },
     "output_type": "display_data"
    },
    {
     "data": {
      "text/plain": [
       "'tom was not worried about that might happen'"
      ]
     },
     "execution_count": 42,
     "metadata": {},
     "output_type": "execute_result"
    }
   ],
   "source": [
    "# EXAMPLE 3\n",
    "sent_ind = 3985\n",
    "sent = predict(validation['italian'].iloc[sent_ind], attention_model=attention_model3, plot_attention_wts=True)\n",
    "sent"
   ]
  },
  {
   "cell_type": "code",
   "execution_count": 43,
   "metadata": {},
   "outputs": [
    {
     "data": {
      "text/plain": [
       "('tom was not worried about what might happen <end>',\n",
       " 'tom non era preoccupato per quello che potrebbe succedere')"
      ]
     },
     "execution_count": 43,
     "metadata": {},
     "output_type": "execute_result"
    }
   ],
   "source": [
    "# the real sentences\n",
    "validation.iloc[sent_ind]['english_output'], validation.iloc[sent_ind]['italian']"
   ]
  },
  {
   "cell_type": "code",
   "execution_count": 44,
   "metadata": {},
   "outputs": [
    {
     "data": {
      "image/png": "[encoded data removed]",
      "text/plain": [
       "<Figure size 720x720 with 2 Axes>"
      ]
     },
     "metadata": {
      "needs_background": "light"
     },
     "output_type": "display_data"
    },
    {
     "data": {
      "text/plain": [
       "'this shirt is too small for me to wear'"
      ]
     },
     "execution_count": 44,
     "metadata": {},
     "output_type": "execute_result"
    }
   ],
   "source": [
    "# EXAMPLE 3\n",
    "sent_ind = 444\n",
    "sent = predict(validation['italian'].iloc[sent_ind], attention_model=attention_model3, plot_attention_wts=True)\n",
    "sent"
   ]
  },
  {
   "cell_type": "code",
   "execution_count": 45,
   "metadata": {},
   "outputs": [
    {
     "data": {
      "text/plain": [
       "('this shirt is too small for me to wear <end>',\n",
       " 'questa maglia è troppo piccola per me da indossare')"
      ]
     },
     "execution_count": 45,
     "metadata": {},
     "output_type": "execute_result"
    }
   ],
   "source": [
    "# the real sentences\n",
    "validation.iloc[sent_ind]['english_output'], validation.iloc[sent_ind]['italian']"
   ]
  },
  {
   "cell_type": "markdown",
   "metadata": {
    "id": "jmxIVOOQPWMu"
   },
   "source": [
    "<font color='blue'>**Calculate BLEU score**</font>"
   ]
  },
  {
   "cell_type": "code",
   "execution_count": 46,
   "metadata": {},
   "outputs": [],
   "source": [
    "import nltk.translate.bleu_score as bleu"
   ]
  },
  {
   "cell_type": "code",
   "execution_count": 47,
   "metadata": {},
   "outputs": [
    {
     "name": "stdout",
     "output_type": "stream",
     "text": [
      "(1000, 3)\n"
     ]
    },
    {
     "data": {
      "text/html": [
       "<div>\n",
       "<style scoped>\n",
       "    .dataframe tbody tr th:only-of-type {\n",
       "        vertical-align: middle;\n",
       "    }\n",
       "\n",
       "    .dataframe tbody tr th {\n",
       "        vertical-align: top;\n",
       "    }\n",
       "\n",
       "    .dataframe thead th {\n",
       "        text-align: right;\n",
       "    }\n",
       "</style>\n",
       "<table border=\"1\" class=\"dataframe\">\n",
       "  <thead>\n",
       "    <tr style=\"text-align: right;\">\n",
       "      <th></th>\n",
       "      <th>italian</th>\n",
       "      <th>english_input</th>\n",
       "      <th>english_output</th>\n",
       "    </tr>\n",
       "  </thead>\n",
       "  <tbody>\n",
       "    <tr>\n",
       "      <th>164120</th>\n",
       "      <td>io spero che le cose cambieranno</td>\n",
       "      <td>&lt;start&gt; i hope things will change</td>\n",
       "      <td>i hope things will change &lt;end&gt;</td>\n",
       "    </tr>\n",
       "    <tr>\n",
       "      <th>288665</th>\n",
       "      <td>non lo so perché non chiede a tom</td>\n",
       "      <td>&lt;start&gt; i do not know why do not you ask tom</td>\n",
       "      <td>i do not know why do not you ask tom &lt;end&gt;</td>\n",
       "    </tr>\n",
       "    <tr>\n",
       "      <th>210230</th>\n",
       "      <td>io non ho niente da dirti</td>\n",
       "      <td>&lt;start&gt; i have nothing to say to you</td>\n",
       "      <td>i have nothing to say to you &lt;end&gt;</td>\n",
       "    </tr>\n",
       "    <tr>\n",
       "      <th>282360</th>\n",
       "      <td>si dice che lui conosca il segreto</td>\n",
       "      <td>&lt;start&gt; it is said that he knows the secret</td>\n",
       "      <td>it is said that he knows the secret &lt;end&gt;</td>\n",
       "    </tr>\n",
       "    <tr>\n",
       "      <th>94585</th>\n",
       "      <td>a tom non è mai piaciuta mary</td>\n",
       "      <td>&lt;start&gt; tom never liked mary</td>\n",
       "      <td>tom never liked mary &lt;end&gt;</td>\n",
       "    </tr>\n",
       "  </tbody>\n",
       "</table>\n",
       "</div>"
      ],
      "text/plain": [
       "                                   italian  \\\n",
       "164120    io spero che le cose cambieranno   \n",
       "288665   non lo so perché non chiede a tom   \n",
       "210230           io non ho niente da dirti   \n",
       "282360  si dice che lui conosca il segreto   \n",
       "94585        a tom non è mai piaciuta mary   \n",
       "\n",
       "                                       english_input  \\\n",
       "164120             <start> i hope things will change   \n",
       "288665  <start> i do not know why do not you ask tom   \n",
       "210230          <start> i have nothing to say to you   \n",
       "282360   <start> it is said that he knows the secret   \n",
       "94585                   <start> tom never liked mary   \n",
       "\n",
       "                                    english_output  \n",
       "164120             i hope things will change <end>  \n",
       "288665  i do not know why do not you ask tom <end>  \n",
       "210230          i have nothing to say to you <end>  \n",
       "282360   it is said that he knows the secret <end>  \n",
       "94585                   tom never liked mary <end>  "
      ]
     },
     "execution_count": 47,
     "metadata": {},
     "output_type": "execute_result"
    }
   ],
   "source": [
    "# sampling 1000 sentences from the testing set at random\n",
    "sample = validation.sample(n=1000, random_state=0)\n",
    "print(sample.shape)\n",
    "sample.head()"
   ]
  },
  {
   "cell_type": "code",
   "execution_count": 48,
   "metadata": {},
   "outputs": [
    {
     "name": "stderr",
     "output_type": "stream",
     "text": [
      "100%|██████████████████████████████████████████████████████████████████████████████| 1000/1000 [01:10<00:00, 14.15it/s]\n"
     ]
    }
   ],
   "source": [
    "# translating all the sentences from the sample\n",
    "translations = []\n",
    "for sent in tqdm(sample['italian']):\n",
    "    # translating\n",
    "    trans_ = predict(sent, attention_model3)\n",
    "    # appending to the list\n",
    "    translations.append(trans_)"
   ]
  },
  {
   "cell_type": "code",
   "execution_count": 49,
   "metadata": {},
   "outputs": [
    {
     "name": "stdout",
     "output_type": "stream",
     "text": [
      "Original Italian sentence: io spero che le cose cambieranno\n",
      "Actual English Translation: i hope things will change <end>\n",
      "Translation done by the model: i hope things will change\n",
      "----------------------------------------------------------------------------------------------------\n",
      "Original Italian sentence: non lo so perché non chiede a tom\n",
      "Actual English Translation: i do not know why do not you ask tom <end>\n",
      "Translation done by the model: i do not know why do not you ask that\n",
      "----------------------------------------------------------------------------------------------------\n",
      "Original Italian sentence: io non ho niente da dirti\n",
      "Actual English Translation: i have nothing to say to you <end>\n",
      "Translation done by the model: i do not have anything from help you\n",
      "----------------------------------------------------------------------------------------------------\n",
      "Original Italian sentence: si dice che lui conosca il segreto\n",
      "Actual English Translation: it is said that he knows the secret <end>\n",
      "Translation done by the model: it is said that he knows the secret\n",
      "----------------------------------------------------------------------------------------------------\n",
      "Original Italian sentence: a tom non è mai piaciuta mary\n",
      "Actual English Translation: tom never liked mary <end>\n",
      "Translation done by the model: tom never liked mary\n",
      "----------------------------------------------------------------------------------------------------\n"
     ]
    }
   ],
   "source": [
    "# printing a few translations\n",
    "for i in range(5):\n",
    "    print('Original Italian sentence:', sample.iloc[i]['italian'])\n",
    "    print('Actual English Translation:', sample.iloc[i]['english_output'])\n",
    "    print('Translation done by the model:', translations[i])\n",
    "    print('-'*100)"
   ]
  },
  {
   "cell_type": "code",
   "execution_count": 50,
   "metadata": {},
   "outputs": [
    {
     "name": "stdout",
     "output_type": "stream",
     "text": [
      "Aerage bleu score: 0.40581383594455733\n"
     ]
    },
    {
     "name": "stderr",
     "output_type": "stream",
     "text": [
      "C:\\Anaconda\\envs\\DeepLearning\\lib\\site-packages\\nltk\\translate\\bleu_score.py:516: UserWarning: \n",
      "The hypothesis contains 0 counts of 2-gram overlaps.\n",
      "Therefore the BLEU score evaluates to 0, independently of\n",
      "how many N-gram overlaps of lower order it contains.\n",
      "Consider using lower n-gram order or use SmoothingFunction()\n",
      "  warnings.warn(_msg)\n",
      "C:\\Anaconda\\envs\\DeepLearning\\lib\\site-packages\\nltk\\translate\\bleu_score.py:516: UserWarning: \n",
      "The hypothesis contains 0 counts of 3-gram overlaps.\n",
      "Therefore the BLEU score evaluates to 0, independently of\n",
      "how many N-gram overlaps of lower order it contains.\n",
      "Consider using lower n-gram order or use SmoothingFunction()\n",
      "  warnings.warn(_msg)\n",
      "C:\\Anaconda\\envs\\DeepLearning\\lib\\site-packages\\nltk\\translate\\bleu_score.py:516: UserWarning: \n",
      "The hypothesis contains 0 counts of 4-gram overlaps.\n",
      "Therefore the BLEU score evaluates to 0, independently of\n",
      "how many N-gram overlaps of lower order it contains.\n",
      "Consider using lower n-gram order or use SmoothingFunction()\n",
      "  warnings.warn(_msg)\n"
     ]
    }
   ],
   "source": [
    "# calculating bleu score for each sentence\n",
    "bleu_scores = [bleu.sentence_bleu([sample['english_output'].iloc[i].split()[:-1]], translations[i].split()[:-1]) for i in range(1000)]\n",
    "\n",
    "# calculating the average bleu score\n",
    "print(\"Aerage bleu score:\", sum(bleu_scores)/len(bleu_scores))"
   ]
  },
  {
   "cell_type": "markdown",
   "metadata": {
    "id": "Ff1lV0ITM6_p"
   },
   "source": [
    "## Write your observations on each of the scoring function\n",
    "\n",
    "- The BLEU Score is higher for the _concat_ and _general_ attention techniques as compared to the _Dot_ attention technique.\n",
    "- The BLEU Scores for General and Concat are very similar to each other. Thus, we can conclude that the BLEU Score is not affected a lot by the attention technique choosen.\n",
    "- On observing the attention plots, we can see that the model is able to decipher/understand which word(s) among the input sentence is important for a particular word in the output.\n",
    "- The attention gets better from DOT to GENERAL to CONCAT as the attention mechanism becomes more and more complex.\n",
    "- For this, let us take a look at the example sentence:\n",
    "> __Italian:__ _per favore mi puoi aiutare a mettere dei cartellini dei prezzi su tutto._\n",
    "> __English:__ _can you please help me put price tags on everything_\n",
    "- We can see that the concat method gives the best attention plot for this sentence followed by the general and the dot methods respectively.\n",
    "- We can see that for the example sentence, the concat technique is able to give attention with a higher precision and is also able to account for the fact that multiple words from the input sequence can be contextually important for a particular word in the output in a better manner as compared to the other two techniques."
   ]
  },
  {
   "cell_type": "code",
   "execution_count": null,
   "metadata": {},
   "outputs": [],
   "source": []
  }
 ],
 "metadata": {
  "colab": {
   "collapsed_sections": [],
   "name": "Seq2SeqImplementation__Assignment.ipynb",
   "provenance": []
  },
  "kernelspec": {
   "display_name": "Python 3",
   "language": "python",
   "name": "python3"
  },
  "language_info": {
   "codemirror_mode": {
    "name": "ipython",
    "version": 3
   },
   "file_extension": ".py",
   "mimetype": "text/x-python",
   "name": "python",
   "nbconvert_exporter": "python",
   "pygments_lexer": "ipython3",
   "version": "3.7.9"
  }
 },
 "nbformat": 4,
 "nbformat_minor": 1
}
